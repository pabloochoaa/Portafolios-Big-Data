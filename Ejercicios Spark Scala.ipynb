{
 "cells": [
  {
   "cell_type": "code",
   "execution_count": 1,
   "id": "432d7abe",
   "metadata": {},
   "outputs": [
    {
     "data": {
      "text/plain": [
       "Intitializing Scala interpreter ..."
      ]
     },
     "metadata": {},
     "output_type": "display_data"
    },
    {
     "data": {
      "text/plain": [
       "Spark Web UI available at http://L2108019.bosonit.local:4040\n",
       "SparkContext available as 'sc' (version = 3.1.2, master = local[*], app id = local-1634888954602)\n",
       "SparkSession available as 'spark'\n"
      ]
     },
     "metadata": {},
     "output_type": "display_data"
    },
    {
     "data": {
      "text/plain": [
       "import org.apache.spark.sql.SparkSession\r\n",
       "import org.apache.spark.sql.functions._\r\n",
       "import org.apache.spark.sql.types._\r\n",
       "import spark.implicits._\r\n"
      ]
     },
     "execution_count": 1,
     "metadata": {},
     "output_type": "execute_result"
    }
   ],
   "source": [
    "//import the needed libraries\n",
    "import org.apache.spark.sql.SparkSession\n",
    "import org.apache.spark.sql.functions._\n",
    "import org.apache.spark.sql.types._\n",
    "import spark.implicits._"
   ]
  },
  {
   "cell_type": "code",
   "execution_count": 2,
   "id": "5541eccc",
   "metadata": {},
   "outputs": [
    {
     "data": {
      "text/plain": [
       "spark: org.apache.spark.sql.SparkSession = org.apache.spark.sql.SparkSession@3b1dea54\r\n"
      ]
     },
     "execution_count": 2,
     "metadata": {},
     "output_type": "execute_result"
    }
   ],
   "source": [
    "//create the SparkSession\n",
    "val spark = SparkSession\n",
    " .builder\n",
    " .appName(\"Spark Ejs\")\n",
    " .getOrCreate()"
   ]
  },
  {
   "cell_type": "markdown",
   "id": "9fb9e39e",
   "metadata": {},
   "source": [
    "## Exercises from Chapter 2"
   ]
  },
  {
   "cell_type": "markdown",
   "id": "0c202de7",
   "metadata": {},
   "source": [
    "a)"
   ]
  },
  {
   "cell_type": "code",
   "execution_count": 4,
   "id": "8e3436ad",
   "metadata": {},
   "outputs": [
    {
     "data": {
      "text/plain": [
       "route: String = Desktop/Big Data/el_quijote.txt\r\n",
       "data: org.apache.spark.sql.DataFrame = [value: string]\r\n",
       "res1: Long = 2186\r\n"
      ]
     },
     "execution_count": 4,
     "metadata": {},
     "output_type": "execute_result"
    }
   ],
   "source": [
    "//route of the file to read\n",
    "val route = \"Desktop/Big Data/el_quijote.txt\"\n",
    "\n",
    "//loads the file into data\n",
    "//Spark supports csv, json and text files(txt) \n",
    "val data = spark.read.format(\"text\")\n",
    "    .load(route)\n",
    "\n",
    "data.count() //2186\n",
    "//data.show    //shows the 20 top rows in tabular form\n",
    "//data.show(5) //shows the selected number of rows in tabular form\n",
    "//data.show(false) //shows the whole text (doesnt put \"...\", shows all)\n",
    "//data.show(5, 5) //shows the selected number of rows, truncated to 25 character in horizontal\n",
    "//data.head    //returns the first row\n",
    "//data.first() //returns the first row\n",
    "//data.head(5) //takes the number selected of rows from the start and puts them in an array\n",
    "//data.take(5) //takes the number selected of rows from the start and puts them in an array (works as head(<n>) does)\n",
    "//data.tail(5) //takes the number selected of rows from the end and puts them in an array\n",
    "\n",
    "\n",
    "//There is no diference in the behaviour between head and first, the only difference is that head can take parametres and first can't\n",
    "//head(<n>) and take(<n>) return the same thing\n",
    "\n"
   ]
  },
  {
   "cell_type": "markdown",
   "id": "14fd48a0",
   "metadata": {},
   "source": [
    "b)\n"
   ]
  },
  {
   "cell_type": "code",
   "execution_count": 11,
   "id": "85f9337b",
   "metadata": {},
   "outputs": [
    {
     "name": "stdout",
     "output_type": "stream",
     "text": [
      "+-----+------+--------+\n",
      "|State| Color|   Total|\n",
      "+-----+------+--------+\n",
      "|   AZ|  Blue| 89971.0|\n",
      "|   AZ|   Red| 90042.0|\n",
      "|   AZ|Yellow| 90946.0|\n",
      "|   AZ|Orange| 91684.0|\n",
      "|   AZ| Green| 91882.0|\n",
      "|   AZ| Brown| 92287.0|\n",
      "|   CA|  Blue| 89123.0|\n",
      "|   CA|Orange| 90311.0|\n",
      "|   CA|   Red| 91527.0|\n",
      "|   CA| Green| 93505.0|\n",
      "|   CA| Brown| 95762.0|\n",
      "|   CA|Yellow|100956.0|\n",
      "|   CO|   Red| 89465.0|\n",
      "|   CO|Orange| 90971.0|\n",
      "|   CO|  Blue| 93412.0|\n",
      "|   CO| Brown| 93692.0|\n",
      "|   CO| Green| 93724.0|\n",
      "|   CO|Yellow| 95038.0|\n",
      "|   NM|  Blue| 90150.0|\n",
      "|   NM| Green| 91160.0|\n",
      "+-----+------+--------+\n",
      "only showing top 20 rows\n",
      "\r\n"
     ]
    },
    {
     "data": {
      "text/plain": [
       "route: String = Desktop/Big Data/DataSets Libro Spark/mnm_dataset.csv.txt\r\n",
       "data: org.apache.spark.sql.DataFrame = [State: string, Color: string ... 1 more field]\r\n",
       "totalByState: org.apache.spark.sql.Dataset[org.apache.spark.sql.Row] = [State: string, Color: string ... 1 more field]\r\n"
      ]
     },
     "execution_count": 11,
     "metadata": {},
     "output_type": "execute_result"
    }
   ],
   "source": [
    "val route = \"Desktop/Big Data/DataSets Libro Spark/mnm_dataset.csv.txt\"\n",
    "\n",
    "val data = spark.read.format(\"csv\")\n",
    "    .option(\"header\", \"true\")\n",
    "    .load(route)\n",
    "\n",
    "val totalByState = data.select(\"State\", \"Color\", \"Count\")\n",
    "    .groupBy(\"State\", \"Color\")\n",
    "    .agg(sum(\"Count\").alias(\"Total\"))\n",
    "    .orderBy(asc(\"State\"), asc(\"Total\"))\n",
    "totalByState.show()\n",
    "//the function agg agregates a column to the current Dataset"
   ]
  },
  {
   "cell_type": "code",
   "execution_count": 18,
   "id": "e5669531",
   "metadata": {},
   "outputs": [
    {
     "name": "stdout",
     "output_type": "stream",
     "text": [
      "+-----+--------+\n",
      "|State|     Max|\n",
      "+-----+--------+\n",
      "|   WY| 94339.0|\n",
      "|   WA| 96486.0|\n",
      "|   UT| 91341.0|\n",
      "|   TX| 95753.0|\n",
      "|   OR| 94514.0|\n",
      "|   NV| 93929.0|\n",
      "|   NM| 94699.0|\n",
      "|   CO| 95038.0|\n",
      "|   CA|100956.0|\n",
      "|   AZ| 92287.0|\n",
      "+-----+--------+\n",
      "\r\n"
     ]
    }
   ],
   "source": [
    "totalByState.select(\"State\", \"Color\", \"Total\")\n",
    "    .groupBy(\"State\")\n",
    "    .agg(max(\"Total\").alias(\"Max\"))\n",
    "    .orderBy(desc(\"State\")).show()"
   ]
  },
  {
   "cell_type": "code",
   "execution_count": 27,
   "id": "518f39b0",
   "metadata": {},
   "outputs": [
    {
     "name": "stdout",
     "output_type": "stream",
     "text": [
      "+-----+------+--------+\n",
      "|State| Color|   Total|\n",
      "+-----+------+--------+\n",
      "|   CA|Yellow|100956.0|\n",
      "|   CA| Brown| 95762.0|\n",
      "|   CA| Green| 93505.0|\n",
      "|   CA|   Red| 91527.0|\n",
      "|   CA|Orange| 90311.0|\n",
      "|   CA|  Blue| 89123.0|\n",
      "+-----+------+--------+\n",
      "\r\n"
     ]
    }
   ],
   "source": [
    "data.select(\"State\", \"Color\", \"Count\")\n",
    "    .where(col(\"State\") === \"CA\")\n",
    "    .groupBy(\"State\", \"Color\")\n",
    "    .agg(sum(\"Count\").alias(\"Total\"))\n",
    "    .orderBy(desc(\"Total\")).show()"
   ]
  },
  {
   "cell_type": "code",
   "execution_count": 25,
   "id": "99509406",
   "metadata": {},
   "outputs": [
    {
     "name": "stdout",
     "output_type": "stream",
     "text": [
      "+-----+------+--------+\n",
      "|State| Color|   Total|\n",
      "+-----+------+--------+\n",
      "|   CA|  Blue| 89123.0|\n",
      "|   CA| Brown| 95762.0|\n",
      "|   CA| Green| 93505.0|\n",
      "|   CA|Orange| 90311.0|\n",
      "|   CA|   Red| 91527.0|\n",
      "|   CA|Yellow|100956.0|\n",
      "|   CO|  Blue| 93412.0|\n",
      "|   CO| Brown| 93692.0|\n",
      "|   CO| Green| 93724.0|\n",
      "|   CO|Orange| 90971.0|\n",
      "|   CO|   Red| 89465.0|\n",
      "|   CO|Yellow| 95038.0|\n",
      "|   NV|  Blue| 90003.0|\n",
      "|   NV| Brown| 92478.0|\n",
      "|   NV| Green| 91331.0|\n",
      "|   NV|Orange| 93929.0|\n",
      "|   NV|   Red| 89346.0|\n",
      "|   NV|Yellow| 91390.0|\n",
      "|   TX|  Blue| 88466.0|\n",
      "|   TX| Brown| 90736.0|\n",
      "+-----+------+--------+\n",
      "only showing top 20 rows\n",
      "\r\n"
     ]
    }
   ],
   "source": [
    "data.select(\"State\", \"Color\", \"Count\")\n",
    "    .where(col(\"State\") === \"NV\" || col(\"State\") === \"TX\" || col(\"State\") === \"CA\" || col(\"State\") === \"CO\")\n",
    "    .groupBy(\"State\", \"Color\")\n",
    "    .agg(sum(\"Count\").alias(\"Total\"))\n",
    "    .orderBy(asc(\"State\"),asc(\"Color\"))\n",
    "    .show()"
   ]
  },
  {
   "cell_type": "code",
   "execution_count": 31,
   "id": "40752c6e",
   "metadata": {},
   "outputs": [
    {
     "name": "stdout",
     "output_type": "stream",
     "text": [
      "+-----+------+---+------------------+\n",
      "|State| Color|Max|           Average|\n",
      "+-----+------+---+------------------+\n",
      "|   AZ|  Blue| 99| 54.99449877750611|\n",
      "|   AZ| Brown| 99|54.350412249705535|\n",
      "|   AZ| Green| 99| 54.82219570405728|\n",
      "|   AZ|Orange| 99| 54.28300769686205|\n",
      "|   AZ|   Red| 99|54.637135922330096|\n",
      "|   AZ|Yellow| 99| 54.98548972188634|\n",
      "|   CA|  Blue| 99| 55.59762944479102|\n",
      "|   CA| Brown| 99|55.740395809080326|\n",
      "|   CA| Green| 99|54.268717353453276|\n",
      "|   CA|Orange| 99|54.502715751357876|\n",
      "|   CA|   Red| 99| 55.26992753623188|\n",
      "|   CA|Yellow| 99|  55.8693967902601|\n",
      "|   CO|  Blue| 99| 55.11032448377581|\n",
      "|   CO| Brown| 99| 56.57729468599034|\n",
      "|   CO| Green| 99| 54.71336835960304|\n",
      "|   CO|Orange| 99|55.402557856272836|\n",
      "|   CO|   Red| 99|55.089285714285715|\n",
      "|   CO|Yellow| 99| 55.22254503195816|\n",
      "|   NM|  Blue| 99| 55.03663003663004|\n",
      "|   NM| Brown| 99|55.392412566686424|\n",
      "+-----+------+---+------------------+\n",
      "only showing top 20 rows\n",
      "\r\n"
     ]
    }
   ],
   "source": [
    "data.select(\"State\", \"Color\", \"Count\")\n",
    "    .groupBy(\"State\", \"Color\")\n",
    "    .agg(max(\"Count\").alias(\"Max\"), avg(\"Count\").alias(\"Average\"))\n",
    "    .orderBy(asc(\"State\"), asc(\"Color\"))\n",
    "    .show()"
   ]
  },
  {
   "cell_type": "markdown",
   "id": "c412af62",
   "metadata": {},
   "source": [
    "------------------------"
   ]
  },
  {
   "cell_type": "markdown",
   "id": "c51bd793",
   "metadata": {},
   "source": [
    "Now i will do the same queries but with the data as a temporal view"
   ]
  },
  {
   "cell_type": "code",
   "execution_count": 13,
   "id": "0b4bdf78",
   "metadata": {},
   "outputs": [
    {
     "name": "stdout",
     "output_type": "stream",
     "text": [
      "+-----+------+--------+\n",
      "|State| Color|   Total|\n",
      "+-----+------+--------+\n",
      "|   AZ|  Blue| 89971.0|\n",
      "|   AZ|   Red| 90042.0|\n",
      "|   AZ|Yellow| 90946.0|\n",
      "|   AZ|Orange| 91684.0|\n",
      "|   AZ| Green| 91882.0|\n",
      "|   AZ| Brown| 92287.0|\n",
      "|   CA|  Blue| 89123.0|\n",
      "|   CA|Orange| 90311.0|\n",
      "|   CA|   Red| 91527.0|\n",
      "|   CA| Green| 93505.0|\n",
      "|   CA| Brown| 95762.0|\n",
      "|   CA|Yellow|100956.0|\n",
      "|   CO|   Red| 89465.0|\n",
      "|   CO|Orange| 90971.0|\n",
      "|   CO|  Blue| 93412.0|\n",
      "|   CO| Brown| 93692.0|\n",
      "|   CO| Green| 93724.0|\n",
      "|   CO|Yellow| 95038.0|\n",
      "|   NM|  Blue| 90150.0|\n",
      "|   NM| Green| 91160.0|\n",
      "+-----+------+--------+\n",
      "only showing top 20 rows\n",
      "\r\n"
     ]
    }
   ],
   "source": [
    "data.createOrReplaceTempView(\"mnm_table\")\n",
    "\n",
    "spark.sql(\"SELECT State, Color, sum(Count) as Total FROM mnm_table GROUP BY State, Color ORDER BY State ASC, Total ASC\")\n",
    "     .createOrReplaceTempView(\"totalByState_table\")\n",
    "\n",
    "spark.sql(\"SELECT * FROM totalByState_table\").show()"
   ]
  },
  {
   "cell_type": "code",
   "execution_count": 19,
   "id": "d27de30b",
   "metadata": {},
   "outputs": [
    {
     "name": "stdout",
     "output_type": "stream",
     "text": [
      "+-----+--------+\n",
      "|State|     Max|\n",
      "+-----+--------+\n",
      "|   WY| 94339.0|\n",
      "|   WA| 96486.0|\n",
      "|   UT| 91341.0|\n",
      "|   TX| 95753.0|\n",
      "|   OR| 94514.0|\n",
      "|   NV| 93929.0|\n",
      "|   NM| 94699.0|\n",
      "|   CO| 95038.0|\n",
      "|   CA|100956.0|\n",
      "|   AZ| 92287.0|\n",
      "+-----+--------+\n",
      "\r\n"
     ]
    }
   ],
   "source": [
    "spark.sql(\"SELECT State, max(Total) as Max FROM totalByState_table GROUP BY State ORDER BY State DESC\").show()"
   ]
  },
  {
   "cell_type": "code",
   "execution_count": 20,
   "id": "d631d31a",
   "metadata": {},
   "outputs": [
    {
     "name": "stdout",
     "output_type": "stream",
     "text": [
      "+-----+------+--------+\n",
      "|State| Color|   Total|\n",
      "+-----+------+--------+\n",
      "|   CA|Yellow|100956.0|\n",
      "|   CA| Brown| 95762.0|\n",
      "|   CA| Green| 93505.0|\n",
      "|   CA|   Red| 91527.0|\n",
      "|   CA|Orange| 90311.0|\n",
      "|   CA|  Blue| 89123.0|\n",
      "+-----+------+--------+\n",
      "\r\n"
     ]
    }
   ],
   "source": [
    "spark.sql(\"SELECT State, Color, sum(Count) as Total FROM mnm_table WHERE State = 'CA' GROUP BY State, Color ORDER BY Total DESC\")\n",
    "     .show()"
   ]
  },
  {
   "cell_type": "code",
   "execution_count": 26,
   "id": "c7082bee",
   "metadata": {},
   "outputs": [
    {
     "name": "stdout",
     "output_type": "stream",
     "text": [
      "+-----+------+--------+\n",
      "|State| Color|   Total|\n",
      "+-----+------+--------+\n",
      "|   CA|  Blue| 89123.0|\n",
      "|   CA| Brown| 95762.0|\n",
      "|   CA| Green| 93505.0|\n",
      "|   CA|Orange| 90311.0|\n",
      "|   CA|   Red| 91527.0|\n",
      "|   CA|Yellow|100956.0|\n",
      "|   CO|  Blue| 93412.0|\n",
      "|   CO| Brown| 93692.0|\n",
      "|   CO| Green| 93724.0|\n",
      "|   CO|Orange| 90971.0|\n",
      "|   CO|   Red| 89465.0|\n",
      "|   CO|Yellow| 95038.0|\n",
      "|   NV|  Blue| 90003.0|\n",
      "|   NV| Brown| 92478.0|\n",
      "|   NV| Green| 91331.0|\n",
      "|   NV|Orange| 93929.0|\n",
      "|   NV|   Red| 89346.0|\n",
      "|   NV|Yellow| 91390.0|\n",
      "|   TX|  Blue| 88466.0|\n",
      "|   TX| Brown| 90736.0|\n",
      "+-----+------+--------+\n",
      "only showing top 20 rows\n",
      "\r\n"
     ]
    }
   ],
   "source": [
    "spark.sql(\"SELECT State, Color, sum(Count) as Total FROM mnm_table WHERE State = 'NV' OR State = 'TX' OR State = 'CO' OR State = 'CA' GROUP BY State, Color ORDER BY State ASC, Color ASC\").show()"
   ]
  },
  {
   "cell_type": "code",
   "execution_count": 30,
   "id": "8f5049c0",
   "metadata": {},
   "outputs": [
    {
     "name": "stdout",
     "output_type": "stream",
     "text": [
      "+-----+------+---+------------------+\n",
      "|State| Color|Max|           Average|\n",
      "+-----+------+---+------------------+\n",
      "|   AZ|  Blue| 99| 54.99449877750611|\n",
      "|   AZ| Brown| 99|54.350412249705535|\n",
      "|   AZ| Green| 99| 54.82219570405728|\n",
      "|   AZ|Orange| 99| 54.28300769686205|\n",
      "|   AZ|   Red| 99|54.637135922330096|\n",
      "|   AZ|Yellow| 99| 54.98548972188634|\n",
      "|   CA|  Blue| 99| 55.59762944479102|\n",
      "|   CA| Brown| 99|55.740395809080326|\n",
      "|   CA| Green| 99|54.268717353453276|\n",
      "|   CA|Orange| 99|54.502715751357876|\n",
      "|   CA|   Red| 99| 55.26992753623188|\n",
      "|   CA|Yellow| 99|  55.8693967902601|\n",
      "|   CO|  Blue| 99| 55.11032448377581|\n",
      "|   CO| Brown| 99| 56.57729468599034|\n",
      "|   CO| Green| 99| 54.71336835960304|\n",
      "|   CO|Orange| 99|55.402557856272836|\n",
      "|   CO|   Red| 99|55.089285714285715|\n",
      "|   CO|Yellow| 99| 55.22254503195816|\n",
      "|   NM|  Blue| 99| 55.03663003663004|\n",
      "|   NM| Brown| 99|55.392412566686424|\n",
      "+-----+------+---+------------------+\n",
      "only showing top 20 rows\n",
      "\r\n"
     ]
    }
   ],
   "source": [
    "spark.sql(\"SELECT State, Color, max(Count) as Max, avg(Count) as Average FROM mnm_table GROUP BY State, Color ORDER BY State ASC, Color ASC\").show()"
   ]
  },
  {
   "cell_type": "markdown",
   "id": "890bbab0",
   "metadata": {},
   "source": [
    "## Exercises from Chapter 3"
   ]
  },
  {
   "cell_type": "markdown",
   "id": "789213d4",
   "metadata": {},
   "source": [
    "a)"
   ]
  },
  {
   "cell_type": "markdown",
   "id": "9da2ec57",
   "metadata": {},
   "source": [
    "------Blog DataSet exercises------"
   ]
  },
  {
   "cell_type": "code",
   "execution_count": 98,
   "id": "a0ae4d1a",
   "metadata": {},
   "outputs": [
    {
     "data": {
      "text/plain": [
       "defined class blogs\r\n"
      ]
     },
     "execution_count": 98,
     "metadata": {},
     "output_type": "execute_result"
    }
   ],
   "source": [
    "//Sets the schema with a case class (only possible for DataSets, impossible to use in Python)\n",
    "case class blogs(Id: Long, First: String, Last: String, URL: String, Published: String, Hits: Long, Campaigns: Array[String])"
   ]
  },
  {
   "cell_type": "code",
   "execution_count": 99,
   "id": "e6e7ee92",
   "metadata": {},
   "outputs": [
    {
     "data": {
      "text/plain": [
       "route: String = Desktop/Big Data/DataSets Libro Spark/blogs.json\r\n"
      ]
     },
     "execution_count": 99,
     "metadata": {},
     "output_type": "execute_result"
    }
   ],
   "source": [
    "//Load the Data from the example of the book\n",
    "val route = \"Desktop/Big Data/DataSets Libro Spark/blogs.json\""
   ]
  },
  {
   "cell_type": "code",
   "execution_count": 96,
   "id": "8c533183",
   "metadata": {},
   "outputs": [
    {
     "data": {
      "text/plain": [
       "schemaDDL: String = \" `Id` Int, `First` String, `Last` String, `URL` String, `Published` Date, `Hits` Int, `Campaigns` String\"\r\n",
       "schema: org.apache.spark.sql.types.StructType = StructType(StructField(Id,IntegerType,true), StructField(First,StringType,true), StructField(Last,StringType,true), StructField(URL,StringType,true), StructField(Published,DateType,true), StructField(Hits,IntegerType,true), StructField(Campaigns,StringType,true))\r\n",
       "blogs_df: org.apache.spark.sql.DataFrame = [Id: int, First: string ... 5 more fields]\r\n"
      ]
     },
     "execution_count": 96,
     "metadata": {},
     "output_type": "execute_result"
    }
   ],
   "source": [
    "//Sets the schema with DDL\n",
    "val schemaDDL = \" `Id` Int, `First` String, `Last` String, `URL` String, `Published` Date, `Hits` Int, `Campaigns` String\"\n",
    "\n",
    "//Converts the DDL schema to a StructType schema\n",
    "val schema = StructType.fromDDL(schemaDDL)\n",
    "\n",
    "//Creates a DataFrame with the data from the file and the schema defined with DDL\n",
    "val blogs_df = spark.read.schema(schema).json(route)"
   ]
  },
  {
   "cell_type": "code",
   "execution_count": 100,
   "id": "484344d0",
   "metadata": {},
   "outputs": [
    {
     "data": {
      "text/plain": [
       "schema: org.apache.spark.sql.types.StructType = StructType(StructField(Id,IntegerType,false), StructField(First,StringType,false), StructField(Last,StringType,false), StructField(URL,StringType,false), StructField(Published,DateType,false), StructField(Hits,IntegerType,false), StructField(Campaigns,ArrayType(StringType,true),false))\r\n",
       "blogs_df: org.apache.spark.sql.DataFrame = [Id: int, First: string ... 5 more fields]\r\n"
      ]
     },
     "execution_count": 100,
     "metadata": {},
     "output_type": "execute_result"
    }
   ],
   "source": [
    "//Sets the schema with the DataFrame API\n",
    "//The third parameter indicates if that field is nullable or not\n",
    "val schema = StructType(Array(StructField(\"Id\", IntegerType, false),\n",
    "                        StructField(\"First\", StringType, false),\n",
    "                        StructField(\"Last\", StringType, false),\n",
    "                        StructField(\"URL\", StringType, false), \n",
    "                        StructField (\"Published\", DateType, false),\n",
    "                        StructField(\"Hits\", IntegerType, false),\n",
    "                        StructField(\"Campaigns\", ArrayType(StringType), false)))\n",
    "\n",
    "//Creates a DataFrame with the data from the file and the schema defined with the DataFrame API\n",
    "val blogs_df = spark.read.schema(schema).json(route)"
   ]
  },
  {
   "cell_type": "code",
   "execution_count": 101,
   "id": "ca9ef9dd",
   "metadata": {},
   "outputs": [
    {
     "data": {
      "text/plain": [
       "blogs_df: org.apache.spark.sql.Dataset[blogs] = [Campaigns: array<string>, First: string ... 5 more fields]\r\n"
      ]
     },
     "execution_count": 101,
     "metadata": {},
     "output_type": "execute_result"
    }
   ],
   "source": [
    "//The case class is defined is a cell above because if its defined in this same cell it doesn't work \n",
    "\n",
    "//Creates a DataSet with the data from the file and the case class\n",
    "val blogs_df = spark.read.json(route).as[blogs]\n"
   ]
  },
  {
   "cell_type": "code",
   "execution_count": 102,
   "id": "c7482b94",
   "metadata": {},
   "outputs": [
    {
     "name": "stdout",
     "output_type": "stream",
     "text": [
      "+----------------------------+---------+-----+---+-------+---------+-----------------+\n",
      "|Campaigns                   |First    |Hits |Id |Last   |Published|Url              |\n",
      "+----------------------------+---------+-----+---+-------+---------+-----------------+\n",
      "|[twitter, LinkedIn]         |Jules    |4535 |1  |Damji  |1/4/2016 |https://tinyurl.1|\n",
      "|[twitter, LinkedIn]         |Brooke   |8908 |2  |Wenig  |5/5/2018 |https://tinyurl.2|\n",
      "|[web, twitter, FB, LinkedIn]|Denny    |7659 |3  |Lee    |6/7/2019 |https://tinyurl.3|\n",
      "|[twitter, FB]               |Tathagata|10568|4  |Das    |5/12/2018|https://tinyurl.4|\n",
      "|[web, twitter, FB, LinkedIn]|Matei    |40578|5  |Zaharia|5/14/2014|https://tinyurl.5|\n",
      "|[twitter, LinkedIn]         |Reynold  |25568|6  |Xin    |3/2/2015 |https://tinyurl.6|\n",
      "+----------------------------+---------+-----+---+-------+---------+-----------------+\n",
      "\n",
      "root\n",
      " |-- Campaigns: array (nullable = true)\n",
      " |    |-- element: string (containsNull = true)\n",
      " |-- First: string (nullable = true)\n",
      " |-- Hits: long (nullable = true)\n",
      " |-- Id: long (nullable = true)\n",
      " |-- Last: string (nullable = true)\n",
      " |-- Published: string (nullable = true)\n",
      " |-- Url: string (nullable = true)\n",
      "\n",
      "()StructType(StructField(Campaigns,ArrayType(StringType,true),true), StructField(First,StringType,true), StructField(Hits,LongType,true), StructField(Id,LongType,true), StructField(Last,StringType,true), StructField(Published,StringType,true), StructField(Url,StringType,true))"
     ]
    }
   ],
   "source": [
    "//Show the Data \n",
    "blogs_df.show(false)\n",
    "\n",
    "//Print the Schema\n",
    "print(blogs_df.printSchema)\n",
    "\n",
    "//Show the Schema\n",
    "print(blogs_df.schema)"
   ]
  },
  {
   "cell_type": "code",
   "execution_count": 104,
   "id": "051d2e3b",
   "metadata": {},
   "outputs": [
    {
     "name": "stdout",
     "output_type": "stream",
     "text": [
      "+--------------------+---------+-----+---+-------+---------+-----------------+----------+\n",
      "|           Campaigns|    First| Hits| Id|   Last|Published|              Url|BigHitters|\n",
      "+--------------------+---------+-----+---+-------+---------+-----------------+----------+\n",
      "| [twitter, LinkedIn]|    Jules| 4535|  1|  Damji| 1/4/2016|https://tinyurl.1|     false|\n",
      "| [twitter, LinkedIn]|   Brooke| 8908|  2|  Wenig| 5/5/2018|https://tinyurl.2|     false|\n",
      "|[web, twitter, FB...|    Denny| 7659|  3|    Lee| 6/7/2019|https://tinyurl.3|     false|\n",
      "|       [twitter, FB]|Tathagata|10568|  4|    Das|5/12/2018|https://tinyurl.4|      true|\n",
      "|[web, twitter, FB...|    Matei|40578|  5|Zaharia|5/14/2014|https://tinyurl.5|      true|\n",
      "| [twitter, LinkedIn]|  Reynold|25568|  6|    Xin| 3/2/2015|https://tinyurl.6|      true|\n",
      "+--------------------+---------+-----+---+-------+---------+-----------------+----------+\n",
      "\n",
      "+--------------------+---------+-----+---+-------+---------+-----------------+---------------+\n",
      "|           Campaigns|    First| Hits| Id|   Last|Published|              Url|      AuthorsId|\n",
      "+--------------------+---------+-----+---+-------+---------+-----------------+---------------+\n",
      "| [twitter, LinkedIn]|    Jules| 4535|  1|  Damji| 1/4/2016|https://tinyurl.1|  Jules_Damji-1|\n",
      "| [twitter, LinkedIn]|   Brooke| 8908|  2|  Wenig| 5/5/2018|https://tinyurl.2| Brooke_Wenig-2|\n",
      "|[web, twitter, FB...|    Denny| 7659|  3|    Lee| 6/7/2019|https://tinyurl.3|    Denny_Lee-3|\n",
      "|       [twitter, FB]|Tathagata|10568|  4|    Das|5/12/2018|https://tinyurl.4|Tathagata_Das-4|\n",
      "|[web, twitter, FB...|    Matei|40578|  5|Zaharia|5/14/2014|https://tinyurl.5|Matei_Zaharia-5|\n",
      "| [twitter, LinkedIn]|  Reynold|25568|  6|    Xin| 3/2/2015|https://tinyurl.6|  Reynold_Xin-6|\n",
      "+--------------------+---------+-----+---+-------+---------+-----------------+---------------+\n",
      "\n"
     ]
    },
    {
     "data": {
      "text/plain": [
       "bigHitters: org.apache.spark.sql.DataFrame = [Campaigns: array<string>, First: string ... 6 more fields]\r\n",
       "authorId: org.apache.spark.sql.DataFrame = [Campaigns: array<string>, First: string ... 6 more fields]\r\n"
      ]
     },
     "execution_count": 104,
     "metadata": {},
     "output_type": "execute_result"
    }
   ],
   "source": [
    "//Add a column called Big Hitters for people which hits are over 10000\n",
    "\n",
    "// var bigHitters = blogs_df.select(\"*\").where(col(\"Hits\") > 10000).withColumn(\"BigHitters\", lit(true)) \n",
    "//not quite good, only gets the rows that are BigHitters not all\n",
    "\n",
    "var bigHitters = blogs_df.withColumn(\"BigHitters\", expr(\"Hits > 10000\")) //select is not needed\n",
    "bigHitters.show()\n",
    "\n",
    "//Concatenate First, Last and Id to create AuthorsId\n",
    "var authorId = blogs_df.withColumn(\"AuthorsId\", concat(col(\"First\"), lit(\"_\"), col(\"Last\"), lit(\"-\"), col(\"Id\")))\n",
    "authorId.show"
   ]
  },
  {
   "cell_type": "markdown",
   "id": "1f9434a3",
   "metadata": {},
   "source": [
    "------San Francisco Fire Department Exercises-------"
   ]
  },
  {
   "cell_type": "code",
   "execution_count": 3,
   "id": "e024adaa",
   "metadata": {},
   "outputs": [
    {
     "data": {
      "text/plain": [
       "schema: org.apache.spark.sql.types.StructType = StructType(StructField(CallNumber,IntegerType,true), StructField(UnitID,StringType,true), StructField(IncidentNumber,IntegerType,true), StructField(CallType,StringType,true), StructField(CallDate,StringType,true), StructField(WatchDate,StringType,true), StructField(CallFinalDisposition,StringType,true), StructField(AvailableDtTm,StringType,true), StructField(Address,StringType,true), StructField(City,StringType,true), StructField(Zipcode,IntegerType,true), StructField(Battalion,StringType,true), StructField(StationArea,StringType,true), StructField(Box,StringType,true), StructField(OriginalPriority,StringType,true), StructField(Priority,StringType,true), StructField(FinalPriority,IntegerType,true), StructField(ALSUnit,BooleanType,true), St...\r\n"
      ]
     },
     "execution_count": 3,
     "metadata": {},
     "output_type": "execute_result"
    }
   ],
   "source": [
    "//San Francisco Fire Deparment Exercises\n",
    "//Set the schema\n",
    "val schema = StructType(Array(StructField(\"CallNumber\", IntegerType, true),\n",
    "                              StructField(\"UnitID\", StringType, true),\n",
    "                              StructField(\"IncidentNumber\", IntegerType, true),\n",
    "                              StructField(\"CallType\", StringType, true), \n",
    "                              StructField(\"CallDate\", StringType, true), \n",
    "                              StructField(\"WatchDate\", StringType, true),\n",
    "                              StructField(\"CallFinalDisposition\", StringType, true),\n",
    "                              StructField(\"AvailableDtTm\", StringType, true),\n",
    "                              StructField(\"Address\", StringType, true), \n",
    "                              StructField(\"City\", StringType, true), \n",
    "                              StructField(\"Zipcode\", IntegerType, true), \n",
    "                              StructField(\"Battalion\", StringType, true), \n",
    "                              StructField(\"StationArea\", StringType, true), \n",
    "                              StructField(\"Box\", StringType, true), \n",
    "                              StructField(\"OriginalPriority\", StringType, true), \n",
    "                              StructField(\"Priority\", StringType, true), \n",
    "                              StructField(\"FinalPriority\", IntegerType, true), \n",
    "                              StructField(\"ALSUnit\", BooleanType, true), \n",
    "                              StructField(\"CallTypeGroup\", StringType, true),\n",
    "                              StructField(\"NumAlarms\", IntegerType, true),\n",
    "                              StructField(\"UnitType\", StringType, true),\n",
    "                              StructField(\"UnitSequenceInCallDispatch\", IntegerType, true),\n",
    "                              StructField(\"FirePreventionDistrict\", StringType, true),\n",
    "                              StructField(\"SupervisorDistrict\", StringType, true),\n",
    "                              StructField(\"Neighborhood\", StringType, true),\n",
    "                              StructField(\"Location\", StringType, true),\n",
    "                              StructField(\"RowID\", StringType, true),\n",
    "                              StructField(\"Delay\", FloatType, true)))\n",
    "\n",
    "\n",
    "//Load the data from the SF Fire Department\n",
    "val route = \"Desktop/Big Data/DataSets Libro Spark/Fire_Incidents.csv\"\n",
    "\n",
    "val data = spark.read.format(\"csv\").option(\"header\", \"true\").schema(schema).load(route)\n",
    "\n",
    "//data.show(5, 25, true)\n"
   ]
  },
  {
   "cell_type": "code",
   "execution_count": 34,
   "id": "a28df9f3",
   "metadata": {},
   "outputs": [
    {
     "name": "stdout",
     "output_type": "stream",
     "text": [
      "-RECORD 0-----------------------------------------------\n",
      " CallNumber                 | 20110016                  \n",
      " UnitID                     | T13                       \n",
      " IncidentNumber             | 2003235                   \n",
      " CallType                   | Structure Fire            \n",
      " CallDate                   | 01/11/2002                \n",
      " WatchDate                  | 01/10/2002                \n",
      " CallFinalDisposition       | Other                     \n",
      " AvailableDtTm              | 01/11/2002 01:51:44 AM    \n",
      " Address                    | 2000 Block of CALIFORN... \n",
      " City                       | SF                        \n",
      " Zipcode                    | 94109                     \n",
      " Battalion                  | B04                       \n",
      " StationArea                | 38                        \n",
      " Box                        | 3362                      \n",
      " OriginalPriority           | 3                         \n",
      " Priority                   | 3                         \n",
      " FinalPriority              | 3                         \n",
      " ALSUnit                    | false                     \n",
      " CallTypeGroup              | null                      \n",
      " NumAlarms                  | 1                         \n",
      " UnitType                   | TRUCK                     \n",
      " UnitSequenceInCallDispatch | 2                         \n",
      " FirePreventionDistrict     | 4                         \n",
      " SupervisorDistrict         | 5                         \n",
      " Neighborhood               | Pacific Heights           \n",
      " Location                   | (37.7895840679362, -12... \n",
      " RowID                      | 020110016-T13             \n",
      " Delay                      | 2.95                      \n",
      "-RECORD 1-----------------------------------------------\n",
      " CallNumber                 | 20110032                  \n",
      " UnitID                     | E11                       \n",
      " IncidentNumber             | 2003250                   \n",
      " CallType                   | Vehicle Fire              \n",
      " CallDate                   | 01/11/2002                \n",
      " WatchDate                  | 01/10/2002                \n",
      " CallFinalDisposition       | Other                     \n",
      " AvailableDtTm              | 01/11/2002 04:16:46 AM    \n",
      " Address                    | APPLETON AV/MISSION ST    \n",
      " City                       | SF                        \n",
      " Zipcode                    | 94110                     \n",
      " Battalion                  | B06                       \n",
      " StationArea                | 32                        \n",
      " Box                        | 5626                      \n",
      " OriginalPriority           | 3                         \n",
      " Priority                   | 3                         \n",
      " FinalPriority              | 3                         \n",
      " ALSUnit                    | false                     \n",
      " CallTypeGroup              | null                      \n",
      " NumAlarms                  | 1                         \n",
      " UnitType                   | ENGINE                    \n",
      " UnitSequenceInCallDispatch | 1                         \n",
      " FirePreventionDistrict     | 6                         \n",
      " SupervisorDistrict         | 9                         \n",
      " Neighborhood               | Bernal Heights            \n",
      " Location                   | (37.7388432849018, -12... \n",
      " RowID                      | 020110032-E11             \n",
      " Delay                      | 1.5                       \n",
      "-RECORD 2-----------------------------------------------\n",
      " CallNumber                 | 20110043                  \n",
      " UnitID                     | B04                       \n",
      " IncidentNumber             | 2003259                   \n",
      " CallType                   | Alarms                    \n",
      " CallDate                   | 01/11/2002                \n",
      " WatchDate                  | 01/10/2002                \n",
      " CallFinalDisposition       | Other                     \n",
      " AvailableDtTm              | 01/11/2002 06:01:58 AM    \n",
      " Address                    | 1400 Block of SUTTER ST   \n",
      " City                       | SF                        \n",
      " Zipcode                    | 94109                     \n",
      " Battalion                  | B04                       \n",
      " StationArea                | 03                        \n",
      " Box                        | 3223                      \n",
      " OriginalPriority           | 3                         \n",
      " Priority                   | 3                         \n",
      " FinalPriority              | 3                         \n",
      " ALSUnit                    | false                     \n",
      " CallTypeGroup              | null                      \n",
      " NumAlarms                  | 1                         \n",
      " UnitType                   | CHIEF                     \n",
      " UnitSequenceInCallDispatch | 2                         \n",
      " FirePreventionDistrict     | 4                         \n",
      " SupervisorDistrict         | 2                         \n",
      " Neighborhood               | Western Addition          \n",
      " Location                   | (37.7872890372638, -12... \n",
      " RowID                      | 020110043-B04             \n",
      " Delay                      | 3.4833333                 \n",
      "-RECORD 3-----------------------------------------------\n",
      " CallNumber                 | 20110072                  \n",
      " UnitID                     | T08                       \n",
      " IncidentNumber             | 2003279                   \n",
      " CallType                   | Structure Fire            \n",
      " CallDate                   | 01/11/2002                \n",
      " WatchDate                  | 01/11/2002                \n",
      " CallFinalDisposition       | Other                     \n",
      " AvailableDtTm              | 01/11/2002 08:03:26 AM    \n",
      " Address                    | BEALE ST/FOLSOM ST        \n",
      " City                       | SF                        \n",
      " Zipcode                    | 94105                     \n",
      " Battalion                  | B03                       \n",
      " StationArea                | 35                        \n",
      " Box                        | 2122                      \n",
      " OriginalPriority           | 3                         \n",
      " Priority                   | 3                         \n",
      " FinalPriority              | 3                         \n",
      " ALSUnit                    | false                     \n",
      " CallTypeGroup              | null                      \n",
      " NumAlarms                  | 1                         \n",
      " UnitType                   | TRUCK                     \n",
      " UnitSequenceInCallDispatch | 2                         \n",
      " FirePreventionDistrict     | 3                         \n",
      " SupervisorDistrict         | 6                         \n",
      " Neighborhood               | Financial District/Sou... \n",
      " Location                   | (37.7886866619654, -12... \n",
      " RowID                      | 020110072-T08             \n",
      " Delay                      | 1.75                      \n",
      "-RECORD 4-----------------------------------------------\n",
      " CallNumber                 | 20110125                  \n",
      " UnitID                     | E33                       \n",
      " IncidentNumber             | 2003301                   \n",
      " CallType                   | Alarms                    \n",
      " CallDate                   | 01/11/2002                \n",
      " WatchDate                  | 01/11/2002                \n",
      " CallFinalDisposition       | Other                     \n",
      " AvailableDtTm              | 01/11/2002 09:46:44 AM    \n",
      " Address                    | 0 Block of FARALLONES ST  \n",
      " City                       | SF                        \n",
      " Zipcode                    | 94112                     \n",
      " Battalion                  | B09                       \n",
      " StationArea                | 33                        \n",
      " Box                        | 8324                      \n",
      " OriginalPriority           | 3                         \n",
      " Priority                   | 3                         \n",
      " FinalPriority              | 3                         \n",
      " ALSUnit                    | false                     \n",
      " CallTypeGroup              | null                      \n",
      " NumAlarms                  | 1                         \n",
      " UnitType                   | ENGINE                    \n",
      " UnitSequenceInCallDispatch | 2                         \n",
      " FirePreventionDistrict     | 9                         \n",
      " SupervisorDistrict         | 11                        \n",
      " Neighborhood               | Oceanview/Merced/Ingle... \n",
      " Location                   | (37.7140353531157, -12... \n",
      " RowID                      | 020110125-E33             \n",
      " Delay                      | 2.7166667                 \n",
      "only showing top 5 rows\n",
      "\n"
     ]
    }
   ],
   "source": [
    "//Get the Incidents that are not Medical Incidents\n",
    "//data.where(!col(\"CallType\").like(\"Medical Incident\")).show(5, 25, true)\n",
    "data.filter(col(\"CallType\") =!= \"Medical Incident\").show(5, 25, true)"
   ]
  },
  {
   "cell_type": "code",
   "execution_count": 8,
   "id": "534b780e",
   "metadata": {},
   "outputs": [
    {
     "name": "stdout",
     "output_type": "stream",
     "text": [
      "30"
     ]
    }
   ],
   "source": [
    "//How many distinct CallTypes were recorded as the causes of the fire calls?\n",
    "\n",
    "//data.select(countDistinct(\"CallType\")).show(false)\n",
    "\n",
    "print(data.select(\"CallType\").distinct().count())\n",
    "//This can't be done with \"withColumn\" because it expects as 2nd parameter a Column, not a number (the result of count)"
   ]
  },
  {
   "cell_type": "code",
   "execution_count": 9,
   "id": "cbe14e04",
   "metadata": {},
   "outputs": [
    {
     "name": "stdout",
     "output_type": "stream",
     "text": [
      "-RECORD 0-----------------------------------------------\n",
      " CallNumber                 | 20110016                  \n",
      " UnitID                     | T13                       \n",
      " IncidentNumber             | 2003235                   \n",
      " CallType                   | Structure Fire            \n",
      " CallDate                   | 01/11/2002                \n",
      " WatchDate                  | 01/10/2002                \n",
      " CallFinalDisposition       | Other                     \n",
      " AvailableDtTm              | 01/11/2002 01:51:44 AM    \n",
      " Address                    | 2000 Block of CALIFORN... \n",
      " City                       | SF                        \n",
      " Zipcode                    | 94109                     \n",
      " Battalion                  | B04                       \n",
      " StationArea                | 38                        \n",
      " Box                        | 3362                      \n",
      " OriginalPriority           | 3                         \n",
      " Priority                   | 3                         \n",
      " FinalPriority              | 3                         \n",
      " ALSUnit                    | false                     \n",
      " CallTypeGroup              | null                      \n",
      " NumAlarms                  | 1                         \n",
      " UnitType                   | TRUCK                     \n",
      " UnitSequenceInCallDispatch | 2                         \n",
      " FirePreventionDistrict     | 4                         \n",
      " SupervisorDistrict         | 5                         \n",
      " Neighborhood               | Pacific Heights           \n",
      " Location                   | (37.7895840679362, -12... \n",
      " RowID                      | 020110016-T13             \n",
      " ResponseDelayedInMins      | 2.95                      \n",
      "-RECORD 1-----------------------------------------------\n",
      " CallNumber                 | 20110022                  \n",
      " UnitID                     | M17                       \n",
      " IncidentNumber             | 2003241                   \n",
      " CallType                   | Medical Incident          \n",
      " CallDate                   | 01/11/2002                \n",
      " WatchDate                  | 01/10/2002                \n",
      " CallFinalDisposition       | Other                     \n",
      " AvailableDtTm              | 01/11/2002 03:01:18 AM    \n",
      " Address                    | 0 Block of SILVERVIEW DR  \n",
      " City                       | SF                        \n",
      " Zipcode                    | 94124                     \n",
      " Battalion                  | B10                       \n",
      " StationArea                | 42                        \n",
      " Box                        | 6495                      \n",
      " OriginalPriority           | 3                         \n",
      " Priority                   | 3                         \n",
      " FinalPriority              | 3                         \n",
      " ALSUnit                    | true                      \n",
      " CallTypeGroup              | null                      \n",
      " NumAlarms                  | 1                         \n",
      " UnitType                   | MEDIC                     \n",
      " UnitSequenceInCallDispatch | 1                         \n",
      " FirePreventionDistrict     | 10                        \n",
      " SupervisorDistrict         | 10                        \n",
      " Neighborhood               | Bayview Hunters Point     \n",
      " Location                   | (37.7337623673897, -12... \n",
      " RowID                      | 020110022-M17             \n",
      " ResponseDelayedInMins      | 4.7                       \n",
      "-RECORD 2-----------------------------------------------\n",
      " CallNumber                 | 20110023                  \n",
      " UnitID                     | M41                       \n",
      " IncidentNumber             | 2003242                   \n",
      " CallType                   | Medical Incident          \n",
      " CallDate                   | 01/11/2002                \n",
      " WatchDate                  | 01/10/2002                \n",
      " CallFinalDisposition       | Other                     \n",
      " AvailableDtTm              | 01/11/2002 02:39:50 AM    \n",
      " Address                    | MARKET ST/MCALLISTER ST   \n",
      " City                       | SF                        \n",
      " Zipcode                    | 94102                     \n",
      " Battalion                  | B03                       \n",
      " StationArea                | 01                        \n",
      " Box                        | 1455                      \n",
      " OriginalPriority           | 3                         \n",
      " Priority                   | 3                         \n",
      " FinalPriority              | 3                         \n",
      " ALSUnit                    | true                      \n",
      " CallTypeGroup              | null                      \n",
      " NumAlarms                  | 1                         \n",
      " UnitType                   | MEDIC                     \n",
      " UnitSequenceInCallDispatch | 2                         \n",
      " FirePreventionDistrict     | 3                         \n",
      " SupervisorDistrict         | 6                         \n",
      " Neighborhood               | Tenderloin                \n",
      " Location                   | (37.7811772186856, -12... \n",
      " RowID                      | 020110023-M41             \n",
      " ResponseDelayedInMins      | 2.4333334                 \n",
      "-RECORD 3-----------------------------------------------\n",
      " CallNumber                 | 20110032                  \n",
      " UnitID                     | E11                       \n",
      " IncidentNumber             | 2003250                   \n",
      " CallType                   | Vehicle Fire              \n",
      " CallDate                   | 01/11/2002                \n",
      " WatchDate                  | 01/10/2002                \n",
      " CallFinalDisposition       | Other                     \n",
      " AvailableDtTm              | 01/11/2002 04:16:46 AM    \n",
      " Address                    | APPLETON AV/MISSION ST    \n",
      " City                       | SF                        \n",
      " Zipcode                    | 94110                     \n",
      " Battalion                  | B06                       \n",
      " StationArea                | 32                        \n",
      " Box                        | 5626                      \n",
      " OriginalPriority           | 3                         \n",
      " Priority                   | 3                         \n",
      " FinalPriority              | 3                         \n",
      " ALSUnit                    | false                     \n",
      " CallTypeGroup              | null                      \n",
      " NumAlarms                  | 1                         \n",
      " UnitType                   | ENGINE                    \n",
      " UnitSequenceInCallDispatch | 1                         \n",
      " FirePreventionDistrict     | 6                         \n",
      " SupervisorDistrict         | 9                         \n",
      " Neighborhood               | Bernal Heights            \n",
      " Location                   | (37.7388432849018, -12... \n",
      " RowID                      | 020110032-E11             \n",
      " ResponseDelayedInMins      | 1.5                       \n",
      "-RECORD 4-----------------------------------------------\n",
      " CallNumber                 | 20110043                  \n",
      " UnitID                     | B04                       \n",
      " IncidentNumber             | 2003259                   \n",
      " CallType                   | Alarms                    \n",
      " CallDate                   | 01/11/2002                \n",
      " WatchDate                  | 01/10/2002                \n",
      " CallFinalDisposition       | Other                     \n",
      " AvailableDtTm              | 01/11/2002 06:01:58 AM    \n",
      " Address                    | 1400 Block of SUTTER ST   \n",
      " City                       | SF                        \n",
      " Zipcode                    | 94109                     \n",
      " Battalion                  | B04                       \n",
      " StationArea                | 03                        \n",
      " Box                        | 3223                      \n",
      " OriginalPriority           | 3                         \n",
      " Priority                   | 3                         \n",
      " FinalPriority              | 3                         \n",
      " ALSUnit                    | false                     \n",
      " CallTypeGroup              | null                      \n",
      " NumAlarms                  | 1                         \n",
      " UnitType                   | CHIEF                     \n",
      " UnitSequenceInCallDispatch | 2                         \n",
      " FirePreventionDistrict     | 4                         \n",
      " SupervisorDistrict         | 2                         \n",
      " Neighborhood               | Western Addition          \n",
      " Location                   | (37.7872890372638, -12... \n",
      " RowID                      | 020110043-B04             \n",
      " ResponseDelayedInMins      | 3.4833333                 \n",
      "only showing top 5 rows\n",
      "\n"
     ]
    }
   ],
   "source": [
    "//Rename the Column Delay to ResponseDelayedInMins and get the ones above 5\n",
    "\n",
    "data.withColumnRenamed(\"Delay\", \"ResponseDelayedInMins\").show(5, 25, true)"
   ]
  },
  {
   "cell_type": "code",
   "execution_count": 35,
   "id": "4769640c",
   "metadata": {},
   "outputs": [
    {
     "name": "stdout",
     "output_type": "stream",
     "text": [
      "-RECORD 0-----------------------------------------------\n",
      " CallNumber                 | 20110016                  \n",
      " UnitID                     | T13                       \n",
      " IncidentNumber             | 2003235                   \n",
      " CallType                   | Structure Fire            \n",
      " IncidentDate               | 2002-01-11                \n",
      " OnWatchDate                | 2002-01-10                \n",
      " CallFinalDisposition       | Other                     \n",
      " AvailableDtTS              | 2002-01-11 01:51:44       \n",
      " Address                    | 2000 Block of CALIFORN... \n",
      " City                       | SF                        \n",
      " Zipcode                    | 94109                     \n",
      " Battalion                  | B04                       \n",
      " StationArea                | 38                        \n",
      " Box                        | 3362                      \n",
      " OriginalPriority           | 3                         \n",
      " Priority                   | 3                         \n",
      " FinalPriority              | 3                         \n",
      " ALSUnit                    | false                     \n",
      " CallTypeGroup              | null                      \n",
      " NumAlarms                  | 1                         \n",
      " UnitType                   | TRUCK                     \n",
      " UnitSequenceInCallDispatch | 2                         \n",
      " FirePreventionDistrict     | 4                         \n",
      " SupervisorDistrict         | 5                         \n",
      " Neighborhood               | Pacific Heights           \n",
      " Location                   | (37.7895840679362, -12... \n",
      " RowID                      | 020110016-T13             \n",
      " Delay                      | 2.95                      \n",
      "-RECORD 1-----------------------------------------------\n",
      " CallNumber                 | 20110022                  \n",
      " UnitID                     | M17                       \n",
      " IncidentNumber             | 2003241                   \n",
      " CallType                   | Medical Incident          \n",
      " IncidentDate               | 2002-01-11                \n",
      " OnWatchDate                | 2002-01-10                \n",
      " CallFinalDisposition       | Other                     \n",
      " AvailableDtTS              | 2002-01-11 03:01:18       \n",
      " Address                    | 0 Block of SILVERVIEW DR  \n",
      " City                       | SF                        \n",
      " Zipcode                    | 94124                     \n",
      " Battalion                  | B10                       \n",
      " StationArea                | 42                        \n",
      " Box                        | 6495                      \n",
      " OriginalPriority           | 3                         \n",
      " Priority                   | 3                         \n",
      " FinalPriority              | 3                         \n",
      " ALSUnit                    | true                      \n",
      " CallTypeGroup              | null                      \n",
      " NumAlarms                  | 1                         \n",
      " UnitType                   | MEDIC                     \n",
      " UnitSequenceInCallDispatch | 1                         \n",
      " FirePreventionDistrict     | 10                        \n",
      " SupervisorDistrict         | 10                        \n",
      " Neighborhood               | Bayview Hunters Point     \n",
      " Location                   | (37.7337623673897, -12... \n",
      " RowID                      | 020110022-M17             \n",
      " Delay                      | 4.7                       \n",
      "-RECORD 2-----------------------------------------------\n",
      " CallNumber                 | 20110023                  \n",
      " UnitID                     | M41                       \n",
      " IncidentNumber             | 2003242                   \n",
      " CallType                   | Medical Incident          \n",
      " IncidentDate               | 2002-01-11                \n",
      " OnWatchDate                | 2002-01-10                \n",
      " CallFinalDisposition       | Other                     \n",
      " AvailableDtTS              | 2002-01-11 02:39:50       \n",
      " Address                    | MARKET ST/MCALLISTER ST   \n",
      " City                       | SF                        \n",
      " Zipcode                    | 94102                     \n",
      " Battalion                  | B03                       \n",
      " StationArea                | 01                        \n",
      " Box                        | 1455                      \n",
      " OriginalPriority           | 3                         \n",
      " Priority                   | 3                         \n",
      " FinalPriority              | 3                         \n",
      " ALSUnit                    | true                      \n",
      " CallTypeGroup              | null                      \n",
      " NumAlarms                  | 1                         \n",
      " UnitType                   | MEDIC                     \n",
      " UnitSequenceInCallDispatch | 2                         \n",
      " FirePreventionDistrict     | 3                         \n",
      " SupervisorDistrict         | 6                         \n",
      " Neighborhood               | Tenderloin                \n",
      " Location                   | (37.7811772186856, -12... \n",
      " RowID                      | 020110023-M41             \n",
      " Delay                      | 2.4333334                 \n",
      "-RECORD 3-----------------------------------------------\n",
      " CallNumber                 | 20110032                  \n",
      " UnitID                     | E11                       \n",
      " IncidentNumber             | 2003250                   \n",
      " CallType                   | Vehicle Fire              \n",
      " IncidentDate               | 2002-01-11                \n",
      " OnWatchDate                | 2002-01-10                \n",
      " CallFinalDisposition       | Other                     \n",
      " AvailableDtTS              | 2002-01-11 04:16:46       \n",
      " Address                    | APPLETON AV/MISSION ST    \n",
      " City                       | SF                        \n",
      " Zipcode                    | 94110                     \n",
      " Battalion                  | B06                       \n",
      " StationArea                | 32                        \n",
      " Box                        | 5626                      \n",
      " OriginalPriority           | 3                         \n",
      " Priority                   | 3                         \n",
      " FinalPriority              | 3                         \n",
      " ALSUnit                    | false                     \n",
      " CallTypeGroup              | null                      \n",
      " NumAlarms                  | 1                         \n",
      " UnitType                   | ENGINE                    \n",
      " UnitSequenceInCallDispatch | 1                         \n",
      " FirePreventionDistrict     | 6                         \n",
      " SupervisorDistrict         | 9                         \n",
      " Neighborhood               | Bernal Heights            \n",
      " Location                   | (37.7388432849018, -12... \n",
      " RowID                      | 020110032-E11             \n",
      " Delay                      | 1.5                       \n",
      "-RECORD 4-----------------------------------------------\n",
      " CallNumber                 | 20110043                  \n",
      " UnitID                     | B04                       \n",
      " IncidentNumber             | 2003259                   \n",
      " CallType                   | Alarms                    \n",
      " IncidentDate               | 2002-01-11                \n",
      " OnWatchDate                | 2002-01-10                \n",
      " CallFinalDisposition       | Other                     \n",
      " AvailableDtTS              | 2002-01-11 06:01:58       \n",
      " Address                    | 1400 Block of SUTTER ST   \n",
      " City                       | SF                        \n",
      " Zipcode                    | 94109                     \n",
      " Battalion                  | B04                       \n",
      " StationArea                | 03                        \n",
      " Box                        | 3223                      \n",
      " OriginalPriority           | 3                         \n",
      " Priority                   | 3                         \n",
      " FinalPriority              | 3                         \n",
      " ALSUnit                    | false                     \n",
      " CallTypeGroup              | null                      \n",
      " NumAlarms                  | 1                         \n",
      " UnitType                   | CHIEF                     \n",
      " UnitSequenceInCallDispatch | 2                         \n",
      " FirePreventionDistrict     | 4                         \n",
      " SupervisorDistrict         | 2                         \n",
      " Neighborhood               | Western Addition          \n",
      " Location                   | (37.7872890372638, -12... \n",
      " RowID                      | 020110043-B04             \n",
      " Delay                      | 3.4833333                 \n",
      "only showing top 5 rows\n",
      "\n"
     ]
    },
    {
     "data": {
      "text/plain": [
       "dataRenamed: org.apache.spark.sql.DataFrame = [CallNumber: int, UnitID: string ... 26 more fields]\r\n"
      ]
     },
     "execution_count": 35,
     "metadata": {},
     "output_type": "execute_result"
    }
   ],
   "source": [
    "//Convert the columns CallDate, WatchDate, AvailableDtTm to DateType and name them IncidentDate, OnWatchDate, AvailableDtTS\n",
    "\n",
    "var dataRenamed = data.withColumnRenamed(\"CallDate\", \"IncidentDate\").withColumn(\"IncidentDate\", to_date(col(\"IncidentDate\"), \"MM/dd/yyyy\"))\n",
    "    .withColumnRenamed(\"WatchDate\", \"OnWatchDate\").withColumn(\"OnWatchDate\", to_date(col(\"OnWatchDate\"), \"MM/dd/yyyy\"))\n",
    "    .withColumnRenamed(\"AvailableDtTm\", \"AvailableDtTS\").withColumn(\"AvailableDtTS\", to_timestamp(col(\"AvailableDtTS\"), \"MM/dd/yyyy hh:mm:ss a\"))\n",
    "\n",
    "dataRenamed.show(5, 25, true)\n",
    "\n",
    "//The years in format must be like \"yyyy\", if you put \"YYYY\" it won't be recognized as years and it will provoke and error\n",
    "//The final \"a\" is needed because some dates are like \"01/11/2002 01:51:44 AM\"\n",
    "//The format specified is the one that has the data, not the format you want to give the data"
   ]
  },
  {
   "cell_type": "code",
   "execution_count": 12,
   "id": "b7ceab62",
   "metadata": {},
   "outputs": [
    {
     "name": "stdout",
     "output_type": "stream",
     "text": [
      "+------------------+\n",
      "|year(IncidentDate)|\n",
      "+------------------+\n",
      "|              2000|\n",
      "|              2001|\n",
      "|              2002|\n",
      "|              2003|\n",
      "|              2004|\n",
      "|              2005|\n",
      "|              2006|\n",
      "|              2007|\n",
      "|              2008|\n",
      "|              2009|\n",
      "|              2010|\n",
      "|              2011|\n",
      "|              2012|\n",
      "|              2013|\n",
      "|              2014|\n",
      "|              2015|\n",
      "|              2016|\n",
      "|              2017|\n",
      "|              2018|\n",
      "+------------------+\n",
      "\r\n"
     ]
    }
   ],
   "source": [
    "//Obtain the years in which an incident has happened (years must only show once)\n",
    "dataRenamed.select(year($\"IncidentDate\")).distinct().orderBy(asc(\"IncidentDate\")).show()\n"
   ]
  },
  {
   "cell_type": "code",
   "execution_count": 13,
   "id": "2fec24a4",
   "metadata": {},
   "outputs": [
    {
     "name": "stdout",
     "output_type": "stream",
     "text": [
      "+--------------------+------+\n",
      "|            CallType| count|\n",
      "+--------------------+------+\n",
      "|    Medical Incident|113794|\n",
      "|      Structure Fire| 23319|\n",
      "|              Alarms| 19406|\n",
      "|   Traffic Collision|  7013|\n",
      "|Citizen Assist / ...|  2524|\n",
      "|               Other|  2166|\n",
      "|        Outside Fire|  2094|\n",
      "|        Vehicle Fire|   854|\n",
      "|Gas Leak (Natural...|   764|\n",
      "|        Water Rescue|   755|\n",
      "+--------------------+------+\n",
      "only showing top 10 rows\n",
      "\r\n"
     ]
    }
   ],
   "source": [
    "//What were the most common types of fire calls?? (Order the calls by their popularity)\n",
    "dataRenamed.select(\"*\").groupBy(\"CallType\").count().orderBy(desc(\"count\")).show(10)\n"
   ]
  },
  {
   "cell_type": "code",
   "execution_count": 14,
   "id": "f9d2c138",
   "metadata": {},
   "outputs": [
    {
     "name": "stdout",
     "output_type": "stream",
     "text": [
      "+----------------+---------------------+---------------------+---------------------+\n",
      "|Number of alarms|Average response time|Maximum response time|Minimum response time|\n",
      "+----------------+---------------------+---------------------+---------------------+\n",
      "|          176170|    3.892364154521585|              1844.55|          0.016666668|\n",
      "+----------------+---------------------+---------------------+---------------------+\n",
      "\r\n"
     ]
    }
   ],
   "source": [
    "//Compute the sum of alarms, the average response time, and the minimum and maximum response times to all fire calls\n",
    "dataRenamed.select(sum(\"NumAlarms\").alias(\"Number of alarms\"),\n",
    "                   avg(\"Delay\").alias(\"Average response time\"),\n",
    "                   max(\"Delay\").alias(\"Maximum response time\"),\n",
    "                   min(\"Delay\").alias(\"Minimum response time\")).show()\n",
    "\n",
    "//You can't do this in another way (with withColum or agg)\n"
   ]
  },
  {
   "cell_type": "code",
   "execution_count": 15,
   "id": "43aedfd1",
   "metadata": {},
   "outputs": [
    {
     "name": "stdout",
     "output_type": "stream",
     "text": [
      "+--------------------+\n",
      "|            CallType|\n",
      "+--------------------+\n",
      "|Elevator / Escala...|\n",
      "|              Alarms|\n",
      "|Odor (Strange / U...|\n",
      "|Citizen Assist / ...|\n",
      "|              HazMat|\n",
      "|           Explosion|\n",
      "|        Vehicle Fire|\n",
      "|  Suspicious Package|\n",
      "|               Other|\n",
      "|        Outside Fire|\n",
      "|   Traffic Collision|\n",
      "|       Assist Police|\n",
      "|Gas Leak (Natural...|\n",
      "|        Water Rescue|\n",
      "|   Electrical Hazard|\n",
      "|      Structure Fire|\n",
      "|    Medical Incident|\n",
      "|          Fuel Spill|\n",
      "|Smoke Investigati...|\n",
      "|Train / Rail Inci...|\n",
      "+--------------------+\n",
      "\r\n"
     ]
    }
   ],
   "source": [
    "//What were all the different types of fire calls in 2018?\n",
    "dataRenamed.where(year($\"IncidentDate\") === 2018).select(\"CallType\").distinct().show()\n"
   ]
  },
  {
   "cell_type": "code",
   "execution_count": 44,
   "id": "282e4949",
   "metadata": {},
   "outputs": [
    {
     "name": "stdout",
     "output_type": "stream",
     "text": [
      "+-------------+----------------+----------------+\n",
      "|Month of call|        CallType|Number of alarms|\n",
      "+-------------+----------------+----------------+\n",
      "|            5|Medical Incident|             769|\n",
      "|           10|Medical Incident|             725|\n",
      "|            8|Medical Incident|             698|\n",
      "|            3|Medical Incident|             695|\n",
      "|            1|Medical Incident|             692|\n",
      "+-------------+----------------+----------------+\n",
      "only showing top 5 rows\n",
      "\r\n"
     ]
    }
   ],
   "source": [
    "//What months within the year 2018 saw the highest number of fire calls?\n",
    "dataRenamed.where(year($\"IncidentDate\") === 2018)\n",
    "           .withColumn(\"Month of call\", month($\"IncidentDate\"))\n",
    "           .groupBy(\"CallType\", \"Month of call\")\n",
    "           .agg(sum(\"NumAlarms\").alias(\"Number of alarms\"))\n",
    "           .orderBy(desc(\"Number of alarms\"))/*.drop(\"Month of call\")*/.show(5)\n"
   ]
  },
  {
   "cell_type": "code",
   "execution_count": 41,
   "id": "f03ee3ab",
   "metadata": {},
   "outputs": [
    {
     "name": "stdout",
     "output_type": "stream",
     "text": [
      "+--------------------+----------------+\n",
      "|        Neighborhood|Number of alarms|\n",
      "+--------------------+----------------+\n",
      "|          Tenderloin|            1094|\n",
      "|     South of Market|             829|\n",
      "|             Mission|             693|\n",
      "|Financial Distric...|             481|\n",
      "|Bayview Hunters P...|             330|\n",
      "|    Western Addition|             248|\n",
      "|     Sunset/Parkside|             240|\n",
      "|            Nob Hill|             188|\n",
      "|        Hayes Valley|             186|\n",
      "| Castro/Upper Market|             176|\n",
      "+--------------------+----------------+\n",
      "only showing top 10 rows\n",
      "\r\n"
     ]
    }
   ],
   "source": [
    "//Which neighborhood in San Francisco generated the most fire calls in 2018?\n",
    "dataRenamed.where(year($\"IncidentDate\") === 2018)\n",
    "           .groupBy(\"CallType\", \"Neighborhood\")\n",
    "           .agg(sum(\"NumAlarms\").alias(\"Number of alarms\"))\n",
    "           .orderBy(desc(\"Number of alarms\"))\n",
    "           .select(\"Neighborhood\", \"Number of alarms\").show(10)\n"
   ]
  },
  {
   "cell_type": "code",
   "execution_count": 56,
   "id": "0b27a2a8",
   "metadata": {},
   "outputs": [
    {
     "name": "stdout",
     "output_type": "stream",
     "text": [
      "+--------------------+---------+\n",
      "|        Neighborhood| Response|\n",
      "+--------------------+---------+\n",
      "|           Chinatown|491.26666|\n",
      "|Financial Distric...|406.63333|\n",
      "|          Tenderloin|340.48334|\n",
      "|      Haight Ashbury|175.86667|\n",
      "|Bayview Hunters P...|    155.8|\n",
      "|Financial Distric...|135.51666|\n",
      "|     Pacific Heights|129.01666|\n",
      "|        Potrero Hill|    109.8|\n",
      "|        Inner Sunset|106.13333|\n",
      "|     South of Market| 94.71667|\n",
      "+--------------------+---------+\n",
      "only showing top 10 rows\n",
      "\r\n"
     ]
    }
   ],
   "source": [
    "//Which neighborhoods had the worst response times to fire calls in 2018?\n",
    "dataRenamed.where(year($\"IncidentDate\") === 2018)\n",
    "           .groupBy(\"CallType\", \"Neighborhood\")\n",
    "           .agg(max(\"Delay\").alias(\"Response\"))\n",
    "           .orderBy(desc(\"Response\"))\n",
    "           .select(\"Neighborhood\", \"Response\").show(10)\n"
   ]
  },
  {
   "cell_type": "code",
   "execution_count": 74,
   "id": "a9f641da",
   "metadata": {},
   "outputs": [
    {
     "name": "stdout",
     "output_type": "stream",
     "text": [
      "+------------------------+----------------+\n",
      "|weekofyear(IncidentDate)|Number of alarms|\n",
      "+------------------------+----------------+\n",
      "|                      22|             259|\n",
      "|                      40|             255|\n",
      "|                      43|             252|\n",
      "|                      25|             250|\n",
      "|                       1|             246|\n",
      "|                      44|             244|\n",
      "|                      13|             243|\n",
      "|                      32|             243|\n",
      "|                      11|             243|\n",
      "|                       5|             236|\n",
      "+------------------------+----------------+\n",
      "only showing top 10 rows\n",
      "\r\n"
     ]
    }
   ],
   "source": [
    "//Which week in the year in 2018 had the most fire calls?\n",
    "dataRenamed.where(year($\"IncidentDate\") === 2018)\n",
    "           .groupBy(weekofyear($\"IncidentDate\"))\n",
    "           .agg(sum(\"NumAlarms\").alias(\"Number of alarms\"))\n",
    "           .orderBy(desc(\"Number of alarms\"))\n",
    "           .show(10)\n",
    "\n",
    "//You can't do this either in the select, groupBy functions: \"Number of alarms\", weekofyear($\"IncidentDate\")\n",
    "//Because those methods are overloaded to accept one form or another, not both at the same time\n",
    "//You can drop a column created with withColumn or agg after "
   ]
  },
  {
   "cell_type": "code",
   "execution_count": 35,
   "id": "538250b7",
   "metadata": {},
   "outputs": [
    {
     "name": "stdout",
     "output_type": "stream",
     "text": [
      "+--------------------+-------+----------------+\n",
      "|        Neighborhood|Zipcode|Number of alarms|\n",
      "+--------------------+-------+----------------+\n",
      "|         Mission Bay|  94158|             842|\n",
      "|        Potrero Hill|  94158|              38|\n",
      "|                None|  94158|              11|\n",
      "|   Visitacion Valley|  94134|            2442|\n",
      "|             Portola|  94134|            1688|\n",
      "|           Excelsior|  94134|             407|\n",
      "|Bayview Hunters P...|  94134|             292|\n",
      "|        McLaren Park|  94134|             171|\n",
      "|                None|  94134|              29|\n",
      "|         North Beach|  94133|            3711|\n",
      "|           Chinatown|  94133|            1874|\n",
      "|        Russian Hill|  94133|             448|\n",
      "|            Nob Hill|  94133|             238|\n",
      "|           Lakeshore|  94132|            2663|\n",
      "|Oceanview/Merced/...|  94132|             846|\n",
      "|     Sunset/Parkside|  94132|             555|\n",
      "|  West of Twin Peaks|  94132|             262|\n",
      "|          Twin Peaks|  94131|             896|\n",
      "|           Glen Park|  94131|             822|\n",
      "|          Noe Valley|  94131|             764|\n",
      "|        Inner Sunset|  94131|             393|\n",
      "|  West of Twin Peaks|  94131|             371|\n",
      "| Castro/Upper Market|  94131|               2|\n",
      "|     Treasure Island|  94130|            1116|\n",
      "|            Presidio|  94129|             509|\n",
      "|    Presidio Heights|  94129|               3|\n",
      "|  West of Twin Peaks|  94127|            1877|\n",
      "|Oceanview/Merced/...|  94127|              12|\n",
      "|          Twin Peaks|  94127|               3|\n",
      "|Bayview Hunters P...|  94124|            9238|\n",
      "|      Bernal Heights|  94124|              49|\n",
      "|        Potrero Hill|  94124|              16|\n",
      "|             Portola|  94124|              14|\n",
      "|                None|  94124|               7|\n",
      "|              Marina|  94123|            3371|\n",
      "|     Pacific Heights|  94123|             327|\n",
      "|            Presidio|  94123|              42|\n",
      "|     Sunset/Parkside|  94122|            3407|\n",
      "|        Inner Sunset|  94122|            2183|\n",
      "|    Golden Gate Park|  94122|             698|\n",
      "|      Inner Richmond|  94122|              50|\n",
      "|   Lone Mountain/USF|  94122|              27|\n",
      "|      Outer Richmond|  94122|              17|\n",
      "|      Outer Richmond|  94121|            4155|\n",
      "|            Seacliff|  94121|             238|\n",
      "|        Lincoln Park|  94121|             166|\n",
      "|    Golden Gate Park|  94121|              31|\n",
      "|      Inner Richmond|  94118|            2400|\n",
      "|    Presidio Heights|  94118|            1336|\n",
      "|   Lone Mountain/USF|  94118|             759|\n",
      "+--------------------+-------+----------------+\n",
      "only showing top 50 rows\n",
      "\r\n"
     ]
    }
   ],
   "source": [
    "//Is there a correlation between neighborhood, zip code, and number of fire calls?\n",
    "dataRenamed.groupBy(\"Neighborhood\", \"Zipcode\")\n",
    "           .agg(sum(\"NumAlarms\").alias(\"Number of alarms\"))\n",
    "           .orderBy(desc(\"Zipcode\"), desc(\"Number of alarms\"))\n",
    "           .show(50)\n",
    "\n",
    "//Each neighborhood has a series of zipcodes assigned. For example: The Neighborhood Mission has 94114, 94110 and 94103\n",
    "//But some neighborhoods have the same zipcode as others so it not a way to identify them\n",
    "//I haven't found a correlation between them\n"
   ]
  },
  {
   "cell_type": "code",
   "execution_count": 95,
   "id": "442c99d5",
   "metadata": {},
   "outputs": [],
   "source": [
    "//How can we use Parquet files or SQL tables to store this data and read it back?\n",
    "dataRenamed.write.format(\"parquet\").save(\"Desktop/Big Data/DataSets Cacheados/dataRenamed.parquet\")\n",
    "//dataRenamed.write.format(\"parquet\").saveAsTable(\"<DB>.<Table>\")"
   ]
  },
  {
   "cell_type": "markdown",
   "id": "65ca68a1",
   "metadata": {},
   "source": [
    "------------------------\n",
    "b)"
   ]
  },
  {
   "cell_type": "code",
   "execution_count": 7,
   "id": "d5454359",
   "metadata": {},
   "outputs": [
    {
     "name": "stdout",
     "output_type": "stream",
     "text": [
      "-RECORD 0-----------------------------------------------\n",
      " CallNumber                 | 20110016                  \n",
      " UnitID                     | T13                       \n",
      " IncidentNumber             | 2003235                   \n",
      " CallType                   | Structure Fire            \n",
      " CallDate                   | 01/11/2002                \n",
      " WatchDate                  | 01/10/2002                \n",
      " CallFinalDisposition       | Other                     \n",
      " AvailableDtTm              | 01/11/2002 01:51:44 AM    \n",
      " Address                    | 2000 Block of CALIFORN... \n",
      " City                       | SF                        \n",
      " Zipcode                    | 94109                     \n",
      " Battalion                  | B04                       \n",
      " StationArea                | 38                        \n",
      " Box                        | 3362                      \n",
      " OriginalPriority           | 3                         \n",
      " Priority                   | 3                         \n",
      " FinalPriority              | 3                         \n",
      " ALSUnit                    | false                     \n",
      " CallTypeGroup              | null                      \n",
      " NumAlarms                  | 1                         \n",
      " UnitType                   | TRUCK                     \n",
      " UnitSequenceInCallDispatch | 2                         \n",
      " FirePreventionDistrict     | 4                         \n",
      " SupervisorDistrict         | 5                         \n",
      " Neighborhood               | Pacific Heights           \n",
      " Location                   | (37.7895840679362, -12... \n",
      " RowID                      | 020110016-T13             \n",
      " Delay                      | 2.95                      \n",
      "-RECORD 1-----------------------------------------------\n",
      " CallNumber                 | 20110022                  \n",
      " UnitID                     | M17                       \n",
      " IncidentNumber             | 2003241                   \n",
      " CallType                   | Medical Incident          \n",
      " CallDate                   | 01/11/2002                \n",
      " WatchDate                  | 01/10/2002                \n",
      " CallFinalDisposition       | Other                     \n",
      " AvailableDtTm              | 01/11/2002 03:01:18 AM    \n",
      " Address                    | 0 Block of SILVERVIEW DR  \n",
      " City                       | SF                        \n",
      " Zipcode                    | 94124                     \n",
      " Battalion                  | B10                       \n",
      " StationArea                | 42                        \n",
      " Box                        | 6495                      \n",
      " OriginalPriority           | 3                         \n",
      " Priority                   | 3                         \n",
      " FinalPriority              | 3                         \n",
      " ALSUnit                    | true                      \n",
      " CallTypeGroup              | null                      \n",
      " NumAlarms                  | 1                         \n",
      " UnitType                   | MEDIC                     \n",
      " UnitSequenceInCallDispatch | 1                         \n",
      " FirePreventionDistrict     | 10                        \n",
      " SupervisorDistrict         | 10                        \n",
      " Neighborhood               | Bayview Hunters Point     \n",
      " Location                   | (37.7337623673897, -12... \n",
      " RowID                      | 020110022-M17             \n",
      " Delay                      | 4.7                       \n",
      "-RECORD 2-----------------------------------------------\n",
      " CallNumber                 | 20110023                  \n",
      " UnitID                     | M41                       \n",
      " IncidentNumber             | 2003242                   \n",
      " CallType                   | Medical Incident          \n",
      " CallDate                   | 01/11/2002                \n",
      " WatchDate                  | 01/10/2002                \n",
      " CallFinalDisposition       | Other                     \n",
      " AvailableDtTm              | 01/11/2002 02:39:50 AM    \n",
      " Address                    | MARKET ST/MCALLISTER ST   \n",
      " City                       | SF                        \n",
      " Zipcode                    | 94102                     \n",
      " Battalion                  | B03                       \n",
      " StationArea                | 01                        \n",
      " Box                        | 1455                      \n",
      " OriginalPriority           | 3                         \n",
      " Priority                   | 3                         \n",
      " FinalPriority              | 3                         \n",
      " ALSUnit                    | true                      \n",
      " CallTypeGroup              | null                      \n",
      " NumAlarms                  | 1                         \n",
      " UnitType                   | MEDIC                     \n",
      " UnitSequenceInCallDispatch | 2                         \n",
      " FirePreventionDistrict     | 3                         \n",
      " SupervisorDistrict         | 6                         \n",
      " Neighborhood               | Tenderloin                \n",
      " Location                   | (37.7811772186856, -12... \n",
      " RowID                      | 020110023-M41             \n",
      " Delay                      | 2.4333334                 \n",
      "-RECORD 3-----------------------------------------------\n",
      " CallNumber                 | 20110032                  \n",
      " UnitID                     | E11                       \n",
      " IncidentNumber             | 2003250                   \n",
      " CallType                   | Vehicle Fire              \n",
      " CallDate                   | 01/11/2002                \n",
      " WatchDate                  | 01/10/2002                \n",
      " CallFinalDisposition       | Other                     \n",
      " AvailableDtTm              | 01/11/2002 04:16:46 AM    \n",
      " Address                    | APPLETON AV/MISSION ST    \n",
      " City                       | SF                        \n",
      " Zipcode                    | 94110                     \n",
      " Battalion                  | B06                       \n",
      " StationArea                | 32                        \n",
      " Box                        | 5626                      \n",
      " OriginalPriority           | 3                         \n",
      " Priority                   | 3                         \n",
      " FinalPriority              | 3                         \n",
      " ALSUnit                    | false                     \n",
      " CallTypeGroup              | null                      \n",
      " NumAlarms                  | 1                         \n",
      " UnitType                   | ENGINE                    \n",
      " UnitSequenceInCallDispatch | 1                         \n",
      " FirePreventionDistrict     | 6                         \n",
      " SupervisorDistrict         | 9                         \n",
      " Neighborhood               | Bernal Heights            \n",
      " Location                   | (37.7388432849018, -12... \n",
      " RowID                      | 020110032-E11             \n",
      " Delay                      | 1.5                       \n",
      "-RECORD 4-----------------------------------------------\n",
      " CallNumber                 | 20110043                  \n",
      " UnitID                     | B04                       \n",
      " IncidentNumber             | 2003259                   \n",
      " CallType                   | Alarms                    \n",
      " CallDate                   | 01/11/2002                \n",
      " WatchDate                  | 01/10/2002                \n",
      " CallFinalDisposition       | Other                     \n",
      " AvailableDtTm              | 01/11/2002 06:01:58 AM    \n",
      " Address                    | 1400 Block of SUTTER ST   \n",
      " City                       | SF                        \n",
      " Zipcode                    | 94109                     \n",
      " Battalion                  | B04                       \n",
      " StationArea                | 03                        \n",
      " Box                        | 3223                      \n",
      " OriginalPriority           | 3                         \n",
      " Priority                   | 3                         \n",
      " FinalPriority              | 3                         \n",
      " ALSUnit                    | false                     \n",
      " CallTypeGroup              | null                      \n",
      " NumAlarms                  | 1                         \n",
      " UnitType                   | CHIEF                     \n",
      " UnitSequenceInCallDispatch | 2                         \n",
      " FirePreventionDistrict     | 4                         \n",
      " SupervisorDistrict         | 2                         \n",
      " Neighborhood               | Western Addition          \n",
      " Location                   | (37.7872890372638, -12... \n",
      " RowID                      | 020110043-B04             \n",
      " Delay                      | 3.4833333                 \n",
      "only showing top 5 rows\n",
      "\n"
     ]
    },
    {
     "data": {
      "text/plain": [
       "route: String = Desktop/Big Data/DataSets Libro Spark/Fire_Incidents.csv\r\n",
       "data: org.apache.spark.sql.DataFrame = [CallNumber: int, UnitID: string ... 26 more fields]\r\n"
      ]
     },
     "execution_count": 7,
     "metadata": {},
     "output_type": "execute_result"
    }
   ],
   "source": [
    "//Read the CSV and obtain the schema by default\n",
    "val route = \"Desktop/Big Data/DataSets Libro Spark/Fire_Incidents.csv\"\n",
    "\n",
    "var data = spark.read.format(\"csv\").option(\"header\", \"true\").option(\"inferSchema\", \"true\").load(route)\n",
    "data.show(5, 25, true)"
   ]
  },
  {
   "attachments": {
    "DataSetvsDataFrame.png": {
     "image/png": "[encoded data removed]"
    }
   },
   "cell_type": "markdown",
   "id": "b23176ba",
   "metadata": {},
   "source": [
    "------------\n",
    "c)\n",
    "\n",
    "In the definition of a field of a schema, what does the Boolean argument (last argument) stands for? \n",
    "For example: StructField('Delay', FloatType(), True)\n",
    "\n",
    "The last argument indicates if that field is nullable or not\n",
    "\n",
    "\n",
    "-----------\n",
    "d)\n",
    "DataSet vs DataFrame\n",
    "\n",
    "A DataFrame is a equivalent to DataSet[Row], meaning that is an generic Dataset.\n",
    "This is the exact part of the Spark where that relation is defined\n",
    "\n",
    "![DataSetvsDataFrame.png](attachment:DataSetvsDataFrame.png)\n",
    "\n",
    "----------\n",
    "e)\n"
   ]
  },
  {
   "cell_type": "code",
   "execution_count": 59,
   "id": "def2aca4",
   "metadata": {},
   "outputs": [
    {
     "ename": "org.apache.spark.sql.AnalysisException",
     "evalue": " Failed to find data source: avro. Avro is built-in but external data source module since Spark 2.4. Please deploy the application as per the deployment section of \"Apache Avro Data Source Guide\".\r",
     "output_type": "error",
     "traceback": [
      "org.apache.spark.sql.AnalysisException: Failed to find data source: avro. Avro is built-in but external data source module since Spark 2.4. Please deploy the application as per the deployment section of \"Apache Avro Data Source Guide\".\r",
      "  at org.apache.spark.sql.execution.datasources.DataSource$.lookupDataSource(DataSource.scala:679)\r",
      "  at org.apache.spark.sql.execution.datasources.DataSource$.lookupDataSourceV2(DataSource.scala:746)\r",
      "  at org.apache.spark.sql.DataFrameWriter.lookupV2Provider(DataFrameWriter.scala:993)\r",
      "  at org.apache.spark.sql.DataFrameWriter.saveInternal(DataFrameWriter.scala:311)\r",
      "  at org.apache.spark.sql.DataFrameWriter.save(DataFrameWriter.scala:293)\r",
      "  ... 42 elided\r",
      ""
     ]
    }
   ],
   "source": [
    "//Save the data in different formats:\n",
    "\n",
    "//JSON\n",
    "data.write.format(\"json\").mode(SaveMode.ignore).save(\"Desktop/Big Data/DataSets Cacheados/dataEx3_JSON1.json\")\n",
    "\n",
    "//CSV\n",
    "data.write.format(\"csv\").mode(SaveMode.ignore).save(\"Desktop/Big Data/DataSets Cacheados/dataEx3_CSV.csv\")\n",
    "\n",
    "//AVRO\n",
    "//data.write.format(\"avro\").mode(SaveMode.ignore).save(\"Desktop/Big Data/DataSets Cacheados/dataEx3_AVRO.avro\")//Since Spark 2.4.0 it's possible to save as AVRO without external jars."
   ]
  },
  {
   "cell_type": "markdown",
   "id": "4c30c1f7",
   "metadata": {},
   "source": [
    "f)\n",
    "\n",
    "Check the files saved in the previous part\n",
    "\n",
    "-Why are there more than 1 file?\n",
    "\n",
    "    Because Spark writes data as multiple part files in parallel (one-part file for each partition)\n",
    "    \n",
    "-How can you obtain the number of partitions of a DataFrame?\n",
    "\n",
    "    To obtain the partitions we have to convert the DataFrame to an RDD and then we will be able to get them.\n",
    "        <DataFrame>.rdd.getNumPartitions\n",
    "        <DataFrame>.rdd.partitions.length\n",
    "        <DataFrame>.rdd.partitions.size\n",
    "\n",
    "-Which ways exist to modify the number of partitions of a DataFrame?\n",
    "            \n",
    "    Using the method coalesce(<nº of new partitions>) of the DataFrame API. You can also use the method repartition(<nº of new partitions>), but its not as eficient as the previous method.\n",
    "\n",
    "-Modify the number of partitions to 1 and save the files again"
   ]
  },
  {
   "cell_type": "code",
   "execution_count": 8,
   "id": "0355641e",
   "metadata": {},
   "outputs": [
    {
     "data": {
      "text/plain": [
       "data: org.apache.spark.sql.DataFrame = [CallNumber: int, UnitID: string ... 26 more fields]\r\n"
      ]
     },
     "execution_count": 8,
     "metadata": {},
     "output_type": "execute_result"
    }
   ],
   "source": [
    "data = data.coalesce(1)\n",
    "\n",
    "//JSON\n",
    "data.write.format(\"json\").mode(\"overwrite\").save(\"Desktop/Big Data/DataSets Cacheados/dataEx3_JSON1.json\")\n",
    "\n",
    "//CSV\n",
    "data.write.format(\"csv\").mode(\"overwrite\").save(\"Desktop/Big Data/DataSets Cacheados/dataEx3_CSV.csv\")"
   ]
  },
  {
   "cell_type": "markdown",
   "id": "965f7394",
   "metadata": {},
   "source": [
    "---------------\n",
    "## Exercises from Chapter 4\n",
    "\n",
    "\n",
    "\n",
    "b)\n",
    "GlobalTempView vs TempView\n",
    "\n",
    "A global temporal view is visible in all the SparkSessions of a given Cluster, to refer to one you have to write this: \n",
    "global_temp.view_name\n",
    "\n",
    "A temporal or session-scopped view is a view that is only visible in the SparkSessions where its created. \n",
    "\n",
    "But both types of views are temporal and \"dissapears\" when the Spark application ends.\n",
    "\n",
    "\n",
    "\n",
    "I haven't done the exercises of the sections a and c because they are too basic and I have already done something similar (read files in different formats)\n"
   ]
  }
 ],
 "metadata": {
  "kernelspec": {
   "display_name": "spylon-kernel",
   "language": "scala",
   "name": "spylon-kernel"
  },
  "language_info": {
   "codemirror_mode": "text/x-scala",
   "file_extension": ".scala",
   "help_links": [
    {
     "text": "MetaKernel Magics",
     "url": "https://metakernel.readthedocs.io/en/latest/source/README.html"
    }
   ],
   "mimetype": "text/x-scala",
   "name": "scala",
   "pygments_lexer": "scala",
   "version": "0.4.1"
  }
 },
 "nbformat": 4,
 "nbformat_minor": 5
}
