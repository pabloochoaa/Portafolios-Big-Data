{
 "cells": [
  {
   "cell_type": "code",
   "execution_count": 2,
   "id": "432d7abe",
   "metadata": {},
   "outputs": [
    {
     "data": {
      "text/plain": [
       "import org.apache.spark.sql.SparkSession\r\n",
       "import org.apache.spark.sql.functions._\r\n"
      ]
     },
     "execution_count": 2,
     "metadata": {},
     "output_type": "execute_result"
    }
   ],
   "source": [
    "//import the needed libraries\n",
    "import org.apache.spark.sql.SparkSession\n",
    "import org.apache.spark.sql.functions._"
   ]
  },
  {
   "cell_type": "code",
   "execution_count": 3,
   "id": "5541eccc",
   "metadata": {},
   "outputs": [
    {
     "data": {
      "text/plain": [
       "spark: org.apache.spark.sql.SparkSession = org.apache.spark.sql.SparkSession@2bedc3f2\r\n"
      ]
     },
     "execution_count": 3,
     "metadata": {},
     "output_type": "execute_result"
    }
   ],
   "source": [
    "//create the SparkSession\n",
    "val spark = SparkSession\n",
    " .builder\n",
    " .appName(\"Spark Ejs\")\n",
    " .getOrCreate()"
   ]
  },
  {
   "cell_type": "markdown",
   "id": "9fb9e39e",
   "metadata": {},
   "source": [
    "## Exercises from Chapter 2"
   ]
  },
  {
   "cell_type": "code",
   "execution_count": 4,
   "id": "8e3436ad",
   "metadata": {},
   "outputs": [
    {
     "data": {
      "text/plain": [
       "route: String = Desktop/Big Data/el_quijote.txt\r\n",
       "data: org.apache.spark.sql.DataFrame = [value: string]\r\n",
       "res1: Long = 2186\r\n"
      ]
     },
     "execution_count": 4,
     "metadata": {},
     "output_type": "execute_result"
    }
   ],
   "source": [
    "//a\n",
    "\n",
    "//route of the file to read\n",
    "val route = \"Desktop/Big Data/el_quijote.txt\"\n",
    "\n",
    "//loads the file into data\n",
    "//Spark supports csv, json and text files(txt) \n",
    "val data = spark.read.format(\"text\")\n",
    "    .load(route)\n",
    "\n",
    "data.count() //2186\n",
    "//data.show    //shows the 20 top rows in tabular form\n",
    "//data.show(5) //shows the selected number of rows in tabular form\n",
    "//data.show(false) //shows the whole text (doesnt put \"...\", shows all)\n",
    "//data.show(5, 5) //shows the selected number of rows, truncated to 25 character in horizontal\n",
    "//data.head    //returns the first row\n",
    "//data.first() //returns the first row\n",
    "//data.head(5) //takes the number selected of rows from the start and puts them in an array\n",
    "//data.take(5) //takes the number selected of rows from the start and puts them in an array (works as head(<n>) does)\n",
    "//data.tail(5) //takes the number selected of rows from the end and puts them in an array\n",
    "\n",
    "\n",
    "//There is no diference in the behaviour between head and first, the only difference is that head can take parametres and first can't\n",
    "//head(<n>) and take(<n>) return the same thing\n",
    "\n"
   ]
  },
  {
   "cell_type": "code",
   "execution_count": 19,
   "id": "85f9337b",
   "metadata": {},
   "outputs": [
    {
     "name": "stdout",
     "output_type": "stream",
     "text": [
      "+-----+------+---+------------------+\n",
      "|State| Color|Max|           Average|\n",
      "+-----+------+---+------------------+\n",
      "|   AZ|  Blue| 99| 54.99449877750611|\n",
      "|   AZ| Brown| 99|54.350412249705535|\n",
      "|   AZ| Green| 99| 54.82219570405728|\n",
      "|   AZ|Orange| 99| 54.28300769686205|\n",
      "|   AZ|   Red| 99|54.637135922330096|\n",
      "|   AZ|Yellow| 99| 54.98548972188634|\n",
      "|   CA|  Blue| 99| 55.59762944479102|\n",
      "|   CA| Brown| 99|55.740395809080326|\n",
      "|   CA| Green| 99|54.268717353453276|\n",
      "|   CA|Orange| 99|54.502715751357876|\n",
      "|   CA|   Red| 99| 55.26992753623188|\n",
      "|   CA|Yellow| 99|  55.8693967902601|\n",
      "|   CO|  Blue| 99| 55.11032448377581|\n",
      "|   CO| Brown| 99| 56.57729468599034|\n",
      "|   CO| Green| 99| 54.71336835960304|\n",
      "|   CO|Orange| 99|55.402557856272836|\n",
      "|   CO|   Red| 99|55.089285714285715|\n",
      "|   CO|Yellow| 99| 55.22254503195816|\n",
      "|   NM|  Blue| 99| 55.03663003663004|\n",
      "|   NM| Brown| 99|55.392412566686424|\n",
      "+-----+------+---+------------------+\n",
      "only showing top 20 rows\n",
      "\r\n"
     ]
    },
    {
     "data": {
      "text/plain": [
       "route: String = Desktop/Big Data/mnm_dataset.csv.txt\r\n",
       "data: org.apache.spark.sql.DataFrame = [State: string, Color: string ... 1 more field]\r\n"
      ]
     },
     "execution_count": 19,
     "metadata": {},
     "output_type": "execute_result"
    }
   ],
   "source": [
    "//b\n",
    "\n",
    "val route = \"Desktop/Big Data/mnm_dataset.csv.txt\"\n",
    "\n",
    "val data = spark.read.format(\"csv\")\n",
    "    .option(\"header\", \"true\")\n",
    "    .load(route)\n",
    "\n",
    "/*val totalByState = data.select(\"State\", \"Color\", \"Count\")\n",
    "    .groupBy(\"State\", \"Color\")\n",
    "    .agg(sum(\"Count\").alias(\"Total\"))\n",
    "    .orderBy(asc(\"State\"), asc(\"Total\"))\n",
    "totalByState.show()*/\n",
    "//the function agg agregates a column to the current Dataset\n",
    "\n",
    "/*totalByState.select(\"State\", \"Color\", \"Total\")\n",
    "    .groupBy(\"State\")\n",
    "    .agg(max(\"Total\").alias(\"Max\"))\n",
    "    .orderBy(desc(\"State\")).show()*/\n",
    "\n",
    "\n",
    "/*val caCount = data.select(\"State\", \"Color\", \"Count\")\n",
    "    .where(col(\"State\") === \"CA\")\n",
    "    .groupBy(\"State\", \"Color\")\n",
    "    .agg(sum(\"Count\").alias(\"Total\"))\n",
    "    .orderBy(desc(\"Total\")).show()*/\n",
    "\n",
    "/*data.select(\"State\", \"Color\", \"Count\")\n",
    "    .where(col(\"State\") === \"NV\" || col(\"State\") === \"TX\" || col(\"State\") === \"CA\" || col(\"State\") === \"CO\")\n",
    "    .groupBy(\"State\", \"Color\")\n",
    "    .agg(sum(\"Count\").alias(\"Total\"))\n",
    "    .orderBy(asc(\"State\"),asc(\"Color\"))\n",
    "    .show()*/\n",
    "\n",
    "data.select(\"State\", \"Color\", \"Count\")\n",
    "    .groupBy(\"State\", \"Color\")\n",
    "    .agg(max(\"Count\").alias(\"Max\"), avg(\"Count\").alias(\"Average\"))\n",
    "    .orderBy(asc(\"State\"), asc(\"Color\"))\n",
    "    .show()\n"
   ]
  }
 ],
 "metadata": {
  "kernelspec": {
   "display_name": "spylon-kernel",
   "language": "scala",
   "name": "spylon-kernel"
  },
  "language_info": {
   "codemirror_mode": "text/x-scala",
   "file_extension": ".scala",
   "help_links": [
    {
     "text": "MetaKernel Magics",
     "url": "https://metakernel.readthedocs.io/en/latest/source/README.html"
    }
   ],
   "mimetype": "text/x-scala",
   "name": "scala",
   "pygments_lexer": "scala",
   "version": "0.4.1"
  }
 },
 "nbformat": 4,
 "nbformat_minor": 5
}
