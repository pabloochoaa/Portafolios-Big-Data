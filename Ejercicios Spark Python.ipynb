{
 "cells": [
  {
   "cell_type": "code",
   "execution_count": 6,
   "id": "9ca956ec",
   "metadata": {},
   "outputs": [],
   "source": [
    "#import the needed libraries\n",
    "import sys\n",
    "from pyspark.sql import SparkSession\n",
    "from pyspark.sql.functions import *\n"
   ]
  },
  {
   "cell_type": "code",
   "execution_count": 7,
   "id": "f7eee6fd",
   "metadata": {},
   "outputs": [],
   "source": [
    "#create the SparkSession\n",
    "spark = (SparkSession\n",
    "        .builder\n",
    "        .appName(\"Spark Ejs\")\n",
    "        .getOrCreate())"
   ]
  },
  {
   "cell_type": "markdown",
   "id": "dce8583d",
   "metadata": {},
   "source": [
    "## Exercises from Chapter 2"
   ]
  },
  {
   "cell_type": "code",
   "execution_count": 8,
   "id": "5076c349",
   "metadata": {},
   "outputs": [
    {
     "data": {
      "text/plain": [
       "2186"
      ]
     },
     "execution_count": 8,
     "metadata": {},
     "output_type": "execute_result"
    }
   ],
   "source": [
    "#a\n",
    "\n",
    "#route of the file to read\n",
    "route = \"Desktop\\Big Data\\el_quijote.txt\"\n",
    "\n",
    "#loads the file into data\n",
    "#Spark supports csv, json and text files(txt) \n",
    "data = (spark.read.format(\"text\")\n",
    "        .option(\"header\", \"false\")\n",
    "        .load(route))\n",
    "    \n",
    "data.count() #2186\n",
    "#data.show()  #shows the top 20 rows in tabular form\n",
    "#data.show(5) #shows the selected number of rows in tabular form\n",
    "#data.show(truncate = False) #shows the whole text (doesnt put \"...\", shows all)\n",
    "#data.show(5, truncate = False) #shows the selected number of rows\n",
    "#data.show(5, truncate = False, vertical = False) #shows the selected number of rows, truncated to 25 character in horizontal\n",
    "#in Python is allowed to put False when expected int because I think it internally cast it to int (False is 0)\n",
    "\n",
    "#data.head()  #returns the first row\n",
    "#data.first() #returns the first row\n",
    "#data.head(5) #takes the number selected of rows from the start and puts them in an array \n",
    "#data.take(5) #takes the number selected of rows from the start and puts them in an array (works as head(<n>) does) \n",
    "#data.tail(5) #takes the number selected of rows from the end and puts them in an array\n",
    "\n",
    "#There is no diference in the behaviour between head and first, the only difference is that head can take parametres and first can't\n",
    "#head(<n>) and take(<n>) return the same thing\n",
    "\n"
   ]
  },
  {
   "cell_type": "code",
   "execution_count": 31,
   "id": "900e9055",
   "metadata": {},
   "outputs": [
    {
     "name": "stdout",
     "output_type": "stream",
     "text": [
      "+-----+------+---+------------------+\n",
      "|State| Color|Max|           Average|\n",
      "+-----+------+---+------------------+\n",
      "|   AZ|  Blue| 99| 54.99449877750611|\n",
      "|   AZ| Brown| 99|54.350412249705535|\n",
      "|   AZ| Green| 99| 54.82219570405728|\n",
      "|   AZ|Orange| 99| 54.28300769686205|\n",
      "|   AZ|   Red| 99|54.637135922330096|\n",
      "|   AZ|Yellow| 99| 54.98548972188634|\n",
      "|   CA|  Blue| 99| 55.59762944479102|\n",
      "|   CA| Brown| 99|55.740395809080326|\n",
      "|   CA| Green| 99|54.268717353453276|\n",
      "|   CA|Orange| 99|54.502715751357876|\n",
      "|   CA|   Red| 99| 55.26992753623188|\n",
      "|   CA|Yellow| 99|  55.8693967902601|\n",
      "|   CO|  Blue| 99| 55.11032448377581|\n",
      "|   CO| Brown| 99| 56.57729468599034|\n",
      "|   CO| Green| 99| 54.71336835960304|\n",
      "|   CO|Orange| 99|55.402557856272836|\n",
      "|   CO|   Red| 99|55.089285714285715|\n",
      "|   CO|Yellow| 99| 55.22254503195816|\n",
      "|   NM|  Blue| 99| 55.03663003663004|\n",
      "|   NM| Brown| 99|55.392412566686424|\n",
      "+-----+------+---+------------------+\n",
      "only showing top 20 rows\n",
      "\n"
     ]
    }
   ],
   "source": [
    "#b\n",
    "\n",
    "route = \"Desktop/Big Data/mnm_dataset.csv.txt\"\n",
    "\n",
    "data = spark.read.format(\"csv\") \\\n",
    "    .option(\"header\", \"true\") \\\n",
    "    .load(route)\n",
    "\n",
    "# totalByState = (data.select(\"State\", \"Color\", \"Count\")\n",
    "#     .groupBy(\"State\", \"Color\")\n",
    "#     .agg(sum(\"Count\").alias(\"Total\")))\n",
    "\n",
    "# totalByState.show()\n",
    "\n",
    "# totalByState.select(\"State\", \"Color\", \"Total\") \\\n",
    "#     .groupBy(\"State\") \\\n",
    "#     .agg(max(\"Total\").alias(\"Max\")) \\\n",
    "#     .orderBy(desc(\"State\")).show()\n",
    "\n",
    "\n",
    "# caCount = (data.select(\"State\", \"Color\", \"Count\")\n",
    "#     .where(col(\"State\") == \"CA\")\n",
    "#     .groupBy(\"State\", \"Color\")\n",
    "#     .agg(sum(\"Count\").alias(\"Total\"))\n",
    "#     .orderBy(desc(\"Total\")).show())\n",
    "\n",
    "# data.select(\"State\", \"Color\", \"Count\") \\\n",
    "#     .where((col(\"State\") == \"NV\") | (col(\"State\") == \"TX\") | (col(\"State\") == \"CA\") | (col(\"State\") == \"CO\")) \\\n",
    "#     .groupBy(\"State\", \"Color\") \\\n",
    "#     .agg(sum(\"Count\").alias(\"Total\")) \\\n",
    "#     .orderBy(asc(\"State\"),asc(\"Color\")) \\\n",
    "#     .show()\n",
    "\n",
    "data.select(\"State\", \"Color\", \"Count\") \\\n",
    "    .groupBy(\"State\", \"Color\") \\\n",
    "    .agg(max(\"Count\").alias(\"Max\"), avg(\"Count\").alias(\"Average\")) \\\n",
    "    .orderBy(asc(\"State\"), asc(\"Color\")) \\\n",
    "    .show()\n",
    "    "
   ]
  },
  {
   "cell_type": "code",
   "execution_count": null,
   "id": "36c67f0f",
   "metadata": {},
   "outputs": [],
   "source": []
  }
 ],
 "metadata": {
  "kernelspec": {
   "display_name": "Python 3",
   "language": "python",
   "name": "python3"
  },
  "language_info": {
   "codemirror_mode": {
    "name": "ipython",
    "version": 3
   },
   "file_extension": ".py",
   "mimetype": "text/x-python",
   "name": "python",
   "nbconvert_exporter": "python",
   "pygments_lexer": "ipython3",
   "version": "3.8.8"
  }
 },
 "nbformat": 4,
 "nbformat_minor": 5
}
