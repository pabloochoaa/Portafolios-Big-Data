{
 "cells": [
  {
   "cell_type": "markdown",
   "id": "7810bfe7-9a99-4661-b0ae-398645314a28",
   "metadata": {},
   "source": [
    "# **Reto II**"
   ]
  },
  {
   "cell_type": "markdown",
   "id": "991460d3-46be-4619-b92b-095c8aa22e71",
   "metadata": {},
   "source": [
    "### 1. Dataset\n",
    "\n",
    "Los datos de origen son proporcionados en un archivos csv:\n",
    "\n",
    "* udfs: dataset con datos de operaciones financieras.\n",
    "\n",
    "### 2. Columnas y significado:\n",
    "\n",
    "* nb: número de referencia de la operación.\n",
    "* contract: identificador de contrato.\n",
    "* udf_ref: identificador de operación de trading.\n",
    "* fmly: familia a la que pertenece la operación financiera.\n",
    "* grp: grupo al que pertenece la operación financiera.\n",
    "* type: tipo de operación financiera.\n",
    "* country: país de origen de la operación.\n",
    "* udf_name: campo informado en el registro.\n",
    "* num_value: valor numérico.\n",
    "* string_value: valor de cadena de caracteres.\n",
    "* date_value: valor de fecha.\n",
    "* data_timestamp_part: marca temporal.\n",
    "* data_date_part: fecha en la que se almacena la información.\n",
    "* source_system: fuente de los datos.\n",
    "\n",
    "### 3. Descripción del problema:\n",
    "\n",
    "Si hacemos una visión general a nuestro conjunto de datos, podemos observar como hay hasta 10 registros (filas) para cada valor de *nb*, donde cada registro solo da información para un valor de *udf_name*. Esto es un gasto innecesario de almacenamiento y computación, además de complicar los futuros cálculos derivados de estos datos. Por esta razón, necesitamos convertir estos registros con el mismo *nb* a un solo registro.\n",
    "\n",
    "Nuestro dataframe final tendrá que contener las siguientes columnas: `nb, M_CCY, M_CLIENT, M_CRDTCHRG, M_DIRECTIAV, M_DISCMARGIN, M_LIQDTYCHRG, M_MVA, M_RVA, M_SELLER, M_SUCURSAL`\n",
    "\n",
    "* nb: debe contener el número de referencia de la operación.\n",
    "* M_CLIENT, M_SELLER, M_CCY, M_SUCURSAL: deben mapear el valor de *string_value*\n",
    "* M_DISCMARGIN, M_DIRECTIAV, M_LIQDTYCHRG, M_CRDTCHRG, M_MVA, M_RVA: deben mapear el valor de *num_value*\n",
    "\n",
    "\n",
    "Una vez tengamos este resultado, necesitaremos eliminar las operaciones que no tengan informados ninguno de los siguientes campos:\n",
    "\n",
    "M_DISCMARGIN, M_DIRECTIAV, M_LIQDTYCHRG, M_CRDTCHRG, M_MVA, M_RVA, M_SELLER\n",
    "\n",
    "No informados en este caso significa que o son valores nulos, vacíos o 0, en el caso de los campos numéricos.\n",
    "\n",
    "### 4. Reto:\n",
    "\n",
    "* Obtener un dataframe final que contenga las columnas indicadas, con un registro por *nb* y con los valores correctos mapeados.\n",
    "* Las operaciones con los campos M_DISCMARGIN, M_DIRECTIAV, M_LIQDTYCHRG, M_CRDTCHRG, , M_MVA, M_RVA, M_SELLER no informados no deben existir.\n",
    "* Hacerlo de la manera más eficiente posible a nivel computacional.\n",
    "\n",
    "**NOTA:** Cada uno de los pasos descritos en el problema pueden efectuarse en una sola línea."
   ]
  },
  {
   "cell_type": "markdown",
   "id": "01b9d0f8-6824-4c6a-9c8d-e189cc012e6a",
   "metadata": {},
   "source": [
    "### Inicialización de SparkSession:"
   ]
  },
  {
   "cell_type": "code",
   "execution_count": 1,
   "id": "5fb68d75",
   "metadata": {},
   "outputs": [
    {
     "data": {
      "text/plain": [
       "Intitializing Scala interpreter ..."
      ]
     },
     "metadata": {},
     "output_type": "display_data"
    },
    {
     "data": {
      "text/plain": [
       "Spark Web UI available at http://L2108019.bosonit.local:4040\n",
       "SparkContext available as 'sc' (version = 3.1.2, master = local[*], app id = local-1636015064576)\n",
       "SparkSession available as 'spark'\n"
      ]
     },
     "metadata": {},
     "output_type": "display_data"
    },
    {
     "data": {
      "text/plain": [
       "import org.apache.spark.sql.expressions.Window\r\n",
       "import org.apache.spark.sql.SparkSession\r\n",
       "import org.apache.spark.sql.functions._\r\n",
       "import org.apache.spark.sql.DataFrame\r\n",
       "import org.apache.spark.sql.types._\r\n",
       "import spark.implicits._\r\n"
      ]
     },
     "execution_count": 1,
     "metadata": {},
     "output_type": "execute_result"
    }
   ],
   "source": [
    "import org.apache.spark.sql.expressions.Window\n",
    "import org.apache.spark.sql.SparkSession\n",
    "import org.apache.spark.sql.functions._\n",
    "import org.apache.spark.sql.DataFrame\n",
    "import org.apache.spark.sql.types._\n",
    "import spark.implicits._"
   ]
  },
  {
   "cell_type": "code",
   "execution_count": 2,
   "id": "d23122c1-afdd-4b5d-935b-15ba433a036f",
   "metadata": {},
   "outputs": [
    {
     "data": {
      "text/plain": [
       "spark: org.apache.spark.sql.SparkSession = org.apache.spark.sql.SparkSession@279df0b8\r\n"
      ]
     },
     "execution_count": 2,
     "metadata": {},
     "output_type": "execute_result"
    }
   ],
   "source": [
    "val spark = SparkSession.builder()\n",
    "                        .appName(\"Reto 2\")\n",
    "                        .master(\"local\")\n",
    "                        .getOrCreate()"
   ]
  },
  {
   "cell_type": "code",
   "execution_count": 21,
   "id": "6317b0bd-48ef-4598-9391-a04128d51dea",
   "metadata": {},
   "outputs": [
    {
     "data": {
      "text/plain": [
       "udfs: org.apache.spark.sql.DataFrame = [nb: string, contract: string ... 12 more fields]\r\n"
      ]
     },
     "execution_count": 21,
     "metadata": {},
     "output_type": "execute_result"
    }
   ],
   "source": [
    "val udfs = spark.read.format(\"csv\")\n",
    "                     .option(\"header\", \"true\")\n",
    "                     .option(\"delimiter\", \";\")\n",
    "                     .option(\"treatEmptyValuesAsNulls\",\"true\")\n",
    "                     .option(\"nullValue\", null)\n",
    "                     .load(\"Desktop/Big Data/Retos Big Data/Spark for Data Engineers 2/reto2/udfs.csv\")"
   ]
  },
  {
   "cell_type": "code",
   "execution_count": 30,
   "id": "28e411b8",
   "metadata": {},
   "outputs": [
    {
     "data": {
      "text/plain": [
       "aux1: List[String] = List(M_CLIENT, M_SELLER, M_CCY, M_SUCURSAL)\r\n",
       "aux2: List[String] = List(M_DISCMARGIN, M_DIRECTIAV, M_LIQDTYCHRG, M_CRDTCHRG, M_MVA, M_RVA)\r\n",
       "aux3: List[String] = List(M_CLIENT, M_SELLER, M_CCY, M_SUCURSAL, M_DISCMARGIN, M_DIRECTIAV, M_LIQDTYCHRG, M_CRDTCHRG, M_MVA, M_RVA)\r\n"
      ]
     },
     "execution_count": 30,
     "metadata": {},
     "output_type": "execute_result"
    }
   ],
   "source": [
    "var aux1 = List(\"M_CLIENT\", \"M_SELLER\", \"M_CCY\", \"M_SUCURSAL\")\n",
    "var aux2 = List(\"M_DISCMARGIN\", \"M_DIRECTIAV\", \"M_LIQDTYCHRG\", \"M_CRDTCHRG\", \"M_MVA\", \"M_RVA\")\n",
    "var aux3 = aux1.++(aux2)"
   ]
  },
  {
   "cell_type": "code",
   "execution_count": 19,
   "id": "89c69592",
   "metadata": {},
   "outputs": [
    {
     "name": "stdout",
     "output_type": "stream",
     "text": [
      "60\n",
      "+--------+-----+--------+----------+-----------+------------+------------+-----+-----+--------+----------+\n",
      "|      nb|M_CCY|M_CLIENT|M_CRDTCHRG|M_DIRECTIAV|M_DISCMARGIN|M_LIQDTYCHRG|M_MVA|M_RVA|M_SELLER|M_SUCURSAL|\n",
      "+--------+-----+--------+----------+-----------+------------+------------+-----+-----+--------+----------+\n",
      "|10000001| null|    NULL|        20|          0|          10|          30|    0|    0| SELLER1|      1999|\n",
      "|10000009| null|    NULL|        20|          0|          10|          30|    0|    0| SELLER9|      1999|\n",
      "|11122...| null|    MMMM|         0|       9056|           0|           0|   20| 8956|  VVVVVV|      1212|\n",
      "|14773283| null|    NULL|        10|         10|         200|          10|   10|    5|    null|      5493|\n",
      "|16719306|  USD|    null|      null|          0|        null|        null| null| null|    AMAM|      null|\n",
      "|18343978|  GBP|    CCMO|         0|          0|          10|           0|   20|    0|LB_TL...|      1999|\n",
      "|18710605|  MXN|    null|      null|          0|        null|        null| null| null|    AMAM|      null|\n",
      "|18710606|  MXN|    null|      null|          0|        null|        null| null| null|    AMAM|      null|\n",
      "|18937012|  EUR|    null|      null|          0|        null|        null| null| null|    AMAM|      null|\n",
      "|18937013|  EUR|    null|      null|          0|        null|        null| null| null|    AMAM|      null|\n",
      "|19335398|  USD|    null|      null|          0|        null|        null| null| null|    AMAM|      null|\n",
      "|19665185| null|    NULL|        20|       1200|           0|          20|    0|    0|LB_VS...|      5493|\n",
      "|19665186| null|    NULL|        20|       1200|         100|          20|    0|    0|LB_VS...|      5493|\n",
      "|19772399| null|    null|         0|          0|          47|           0|    0|    0|LB_TL...|      1999|\n",
      "|19772400| null|    null|        10|          0|          47|          30|    0|    0|LB_TL...|      1999|\n",
      "|20090399| null|    null|         5|         20|         100|          10|   10|   10|    null|      null|\n",
      "|20513130| null|    CCMO|         0|          0|          10|           0|   20|    0|    WATT|      5493|\n",
      "|20533916| null|    CCMO|         0|          0|          50|           0|   30|    0|    WATT|      1999|\n",
      "|20665177| null|    NULL|        20|       1200|           0|          20|    0|    0|LB_VS...|      5493|\n",
      "|20665178| null|    NULL|        20|       1200|         100|          20|    0|    0|LB_VS...|      5493|\n",
      "|20942931| null|    null|         0|        100|           0|           0|    0|    0|SELLE...|      1999|\n",
      "|20942932| null|    null|       100|          0|           0|           0|    0|    0|SELLE...|      1999|\n",
      "|20980932|  USD|    null|        20|          0|           0|          20|    0|    0|CE_NG...|      1999|\n",
      "|20980933| null|    null|        20|          0|           0|          20|    0|    0|CE_NG...|      1999|\n",
      "|21183317| null|    null|       100|          0|           0|           0|    0|    0|SELLE...|      null|\n",
      "|21321178|  USD|    null|      null|          0|        null|        null| null| null|    AMAM|      null|\n",
      "|21529916| null|    null|         0|          0|           0|           0|    0|    0| SOV_GSM|      1999|\n",
      "|21529917| null|    null|         0|          0|           0|           0|    0|    0| SOV_GSM|      1999|\n",
      "|21772250|  EUR|    null|      null|          0|        null|        null| null| null|    AMAM|      null|\n",
      "|22151902|  EUR|    null|      null|          0|        null|        null| null| null|    AMAM|      null|\n",
      "| 2222222|  USD|    CCMO|        30|          0|          10|          50|   20|    0|LB_TL...|      1999|\n",
      "|22233...| null|    MMMM|         0|       9056|           0|           0|   20| 8956|  VVVVVV|      1212|\n",
      "|22535815|  EUR|    null|      null|          0|        null|        null| null| null|    AMAM|      null|\n",
      "|22535816|  EUR|    null|      null|          0|        null|        null| null| null|    AMAM|      null|\n",
      "|22759961|  EUR|    null|      null|          0|        null|        null| null| null|    AMAM|      null|\n",
      "|22759962|  EUR|    null|      null|          0|        null|        null| null| null|    AMAM|      null|\n",
      "|22784054|  EUR|    null|      null|          0|        null|        null| null| null|    AMAM|      null|\n",
      "|22798004|  EUR|    null|      null|          0|        null|        null| null| null|    AMAM|      null|\n",
      "|22798005|  EUR|    null|      null|          0|        null|        null| null| null|    AMAM|      null|\n",
      "|22853656|  BRL|    null|      null|          0|        null|        null| null| null|    AMAM|      null|\n",
      "|22980629|  EUR|    null|      null|          0|        null|        null| null| null|    AMAM|      null|\n",
      "|22980630|  EUR|    null|      null|          0|        null|        null| null| null|    AMAM|      null|\n",
      "|23037161|  EUR|    null|      null|          0|        null|        null| null| null|    AMAM|      null|\n",
      "|23037162|  EUR|    null|      null|          0|        null|        null| null| null|    AMAM|      null|\n",
      "|23097010|  EUR|    null|      null|          0|        null|        null| null| null|    AMAM|      null|\n",
      "|23126647|  USD|    null|      null|          0|        null|        null| null| null|    AMAM|      null|\n",
      "|23126648|  USD|    null|      null|          0|        null|        null| null| null|    AMAM|      null|\n",
      "|31639...|  EUR|    null|      null|          0|        null|        null| null| null|    AMAM|      null|\n",
      "|32734782|  EUR|    null|      null|          0|        null|        null| null| null|    AMAM|      null|\n",
      "|33311...| null|    MMMM|         0|       9056|           0|           0|   20| 8956|  VVVVVV|      1212|\n",
      "|33333333| null|    null|         0|          0|           0|           0|    0|    0| SSSSSSS|      null|\n",
      "|44411...| null|    MMMM|         0|       9056|           0|           0|   20| 8956|  VVVVVV|      1212|\n",
      "|46835781|  EUR|    null|      null|          0|        null|        null| null| null|    AMAM|      null|\n",
      "|55511...|  USD|    null|        30|          0|          10|          50|   20|    0|LB_TL...|      1999|\n",
      "|55611...|  USD|    null|        30|          0|          10|          50|   20|    0|LB_TL...|      1999|\n",
      "|56436...| null|    MMMM|       234|       9056|          10|         657|   20| 8956|  VVVVVV|      1212|\n",
      "|67324...|  EUR|    null|      null|         45|        null|        null| null| null|    AMAM|      null|\n",
      "|67843276|  EUR|    null|      null|          0|        null|        null| null| null|    AMAM|      null|\n",
      "|79831432|  EUR|    null|      null|          0|        null|        null| null| null|    AMAM|      null|\n",
      "| 8216817|  EUR|    null|      null|          0|        null|        null| null| null|    AMAM|      null|\n",
      "+--------+-----+--------+----------+-----------+------------+------------+-----+-----+--------+----------+\n",
      "\n"
     ]
    },
    {
     "data": {
      "text/plain": [
       "data: org.apache.spark.sql.Dataset[org.apache.spark.sql.Row] = [nb: string, udf_name: string ... 2 more fields]\r\n",
       "data: org.apache.spark.sql.Dataset[org.apache.spark.sql.Row] = [nb: string, udf_name: string ... 2 more fields]\r\n",
       "pivot: org.apache.spark.sql.DataFrame = [nb: string, M_CCY: string ... 9 more fields]\r\n",
       "pivot: org.apache.spark.sql.DataFrame = [nb: string, M_CCY: string ... 9 more fields]\r\n",
       "pivot: org.apache.spark.sql.DataFrame = [nb: string, M_CCY: string ... 9 more fields]\r\n",
       "resultado: org.apache.spark.sql.Dataset[org.apache.spark.sql.Row] = [nb: string, M_CCY: string ... 9 more fields]\r\n"
      ]
     },
     "execution_count": 19,
     "metadata": {},
     "output_type": "execute_result"
    }
   ],
   "source": [
    "var data = udfs.where(col(\"udf_name\").isin(aux3: _*)) // udfs.count() -> 386, data.count() -> 385\n",
    "data = data.select(\"nb\", \"udf_name\", \"num_value\", \"string_value\")\n",
    "\n",
    "var pivot = data.withColumn(\"num_value\", col(\"num_value\").cast(IntegerType)).groupBy(\"nb\")\n",
    "                .pivot(\"udf_name\")\n",
    "                .agg(first(\"num_value\"), first(\"string_value\"))\n",
    "\n",
    "pivot = pivot.drop(\"udf_name\", \"M_CLIENT_first(num_value)\", \"M_CCY_first(num_value)\", \"M_SUCURSAL_first(num_value)\", \n",
    "                   \"M_DISCMARGIN_first(string_value)\", \"M_DIRECTIAV_first(string_value)\", \"M_LIQDTYCHRG_first(string_value)\", \n",
    "                   \"M_MVA_first(string_value)\", \"M_RVA_first(string_value)\", \"M_SELLER_first(num_value)\", \"M_CRDTCHRG_first(string_value)\")\n",
    "\n",
    "pivot = pivot.withColumnRenamed(\"M_CCY_first(string_value)\", \"M_CCY\")\n",
    "             .withColumnRenamed(\"M_CLIENT_first(string_value)\", \"M_CLIENT\")\n",
    "             .withColumnRenamed(\"M_CRDTCHRG_first(num_value)\", \"M_CRDTCHRG\")\n",
    "             .withColumnRenamed(\"M_DIRECTIAV_first(num_value)\", \"M_DIRECTIAV\")\n",
    "             .withColumnRenamed(\"M_DISCMARGIN_first(num_value)\", \"M_DISCMARGIN\")\n",
    "             .withColumnRenamed(\"M_LIQDTYCHRG_first(num_value)\", \"M_LIQDTYCHRG\")\n",
    "             .withColumnRenamed(\"M_MVA_first(num_value)\", \"M_MVA\")\n",
    "             .withColumnRenamed(\"M_RVA_first(num_value)\", \"M_RVA\")\n",
    "             .withColumnRenamed(\"M_SELLER_first(string_value)\", \"M_SELLER\")\n",
    "             .withColumnRenamed(\"M_SUCURSAL_first(string_value)\", \"M_SUCURSAL\")\n",
    "\n",
    "val resultado = pivot.where((col(\"M_SELLER\").isNotNull && upper(col(\"M_SELLER\")) =!= \"NULL\") || \n",
    "                            (col(\"M_DISCMARGIN\").isNotNull && upper(col(\"M_DISCMARGIN\")) =!= \"NULL\" && col(\"M_DISCMARGIN\") =!= 0) || \n",
    "                            (col(\"M_DIRECTIAV\").isNotNull && col(\"M_DIRECTIAV\") =!= 0 && upper(col(\"M_DIRECTIAV\")) =!= \"NULL\") ||\n",
    "                            (col(\"M_LIQDTYCHRG\").isNotNull && col(\"M_LIQDTYCHRG\") =!= 0 && upper(col(\"M_LIQDTYCHRG\")) =!= \"NULL\") ||\n",
    "                            (col(\"M_CRDTCHRG\").isNotNull && col(\"M_CRDTCHRG\") =!= 0 && upper(col(\"M_CRDTCHRG\")) =!= \"NULL\") ||\n",
    "                            (col(\"M_MVA\").isNotNull && col(\"M_MVA\") =!= 0 && upper(col(\"M_MVA\")) =!= \"NULL\") ||\n",
    "                            (col(\"M_RVA\").isNotNull && col(\"M_RVA\") =!= 0 && upper(col(\"M_RVA\")) =!= \"NULL\"))"
   ]
  },
  {
   "cell_type": "code",
   "execution_count": 33,
   "id": "7655ba9d",
   "metadata": {},
   "outputs": [
    {
     "name": "stdout",
     "output_type": "stream",
     "text": [
      "60\n",
      "+--------+-----+--------+----------+-----------+------------+------------+--------+--------+--------+----------+\n",
      "|      nb|M_CCY|M_CLIENT|M_CRDTCHRG|M_DIRECTIAV|M_DISCMARGIN|M_LIQDTYCHRG|   M_MVA|   M_RVA|M_SELLER|M_SUCURSAL|\n",
      "+--------+-----+--------+----------+-----------+------------+------------+--------+--------+--------+----------+\n",
      "|10000001| null|    NULL|        20|   0.000...|          10|          30|0.000...|0.000...| SELLER1|      1999|\n",
      "|10000009| null|    NULL|        20|   0.000...|          10|          30|0.000...|0.000...| SELLER9|      1999|\n",
      "|11122...| null|    MMMM|  0.000...|       9056|    0.000...|    0.000...|      20|    8956|  VVVVVV|      1212|\n",
      "|14773283| null|    NULL|        10|         10|         200|          10|      10|       5|    null|      5493|\n",
      "|16719306|  USD|    null|      null|   0.000...|        null|        null|    null|    null|    AMAM|      null|\n",
      "|18343978|  GBP|    CCMO|  0.000...|   0.000...|          10|    0.000...|      20|0.000...|LB_TL...|      1999|\n",
      "|18710605|  MXN|    null|      null|   0.000...|        null|        null|    null|    null|    AMAM|      null|\n",
      "|18710606|  MXN|    null|      null|   0.000...|        null|        null|    null|    null|    AMAM|      null|\n",
      "|18937012|  EUR|    null|      null|   0.000...|        null|        null|    null|    null|    AMAM|      null|\n",
      "|18937013|  EUR|    null|      null|   0.000...|        null|        null|    null|    null|    AMAM|      null|\n",
      "|19335398|  USD|    null|      null|   0.000...|        null|        null|    null|    null|    AMAM|      null|\n",
      "|19665185| null|    NULL|  20.00...|   1200....|    0.000...|    20.00...|0.000...|0.000...|LB_VS...|      5493|\n",
      "|19665186| null|    NULL|  20.00...|   1200....|         100|    20.00...|0.000...|0.000...|LB_VS...|      5493|\n",
      "|19772399| null|    null|  0.000...|   0.000...|    47.26...|    0.000...|0.000...|0.000...|LB_TL...|      1999|\n",
      "|19772400| null|    null|        10|   0.000...|    47.26...|          30|0.000...|0.000...|LB_TL...|      1999|\n",
      "|20090399| null|    null|         5|         20|         100|          10|      10|      10|    null|      null|\n",
      "|20513130| null|    CCMO|  0.000...|   0.000...|          10|    0.000...|      20|0.000...|    WATT|      5493|\n",
      "|20533916| null|    CCMO|  0.000...|   0.000...|          50|    0.000...|      30|0.000...|    WATT|      1999|\n",
      "|20665177| null|    NULL|  20.00...|   1200....|    0.000...|    20.00...|0.000...|0.000...|LB_VS...|      5493|\n",
      "|20665178| null|    NULL|  20.00...|   1200....|         100|    20.00...|0.000...|0.000...|LB_VS...|      5493|\n",
      "|20942931| null|    null|  0.000...|   100.0...|    0.000...|    0.000...|0.000...|0.000...|SELLE...|      1999|\n",
      "|20942932| null|    null|  100.0...|   0.000...|    0.000...|    0.000...|0.000...|0.000...|SELLE...|      1999|\n",
      "|20980932|  USD|    null|  20.00...|   0.000...|    0.112...|    20.00...|0.000...|0.000...|CE_NG...|      1999|\n",
      "|20980933| null|    null|  20.00...|   0.000...|    0.112...|    20.00...|0.000...|0.000...|CE_NG...|      1999|\n",
      "|21183317| null|    null|  100.0...|   0.000...|    0.000...|    0.000...|0.000...|0.000...|SELLE...|      null|\n",
      "|21321178|  USD|    null|      null|   0.000...|        null|        null|    null|    null|    AMAM|      null|\n",
      "|21529916| null|    null|  0.000...|   0.000...|    0.000...|    0.000...|0.000...|0.000...| SOV_GSM|      1999|\n",
      "|21529917| null|    null|  0.000...|   0.000...|    0.000...|    0.000...|0.000...|0.000...| SOV_GSM|      1999|\n",
      "|21772250|  EUR|    null|      null|   0.000...|        null|        null|    null|    null|    AMAM|      null|\n",
      "|22151902|  EUR|    null|      null|   0.000...|        null|        null|    null|    null|    AMAM|      null|\n",
      "| 2222222|  USD|    CCMO|  30.00...|   0.000...|          10|    50.00...|      20|0.000...|LB_TL...|      1999|\n",
      "|22233...| null|    MMMM|  0.000...|       9056|    0.000...|    0.000...|      20|    8956|  VVVVVV|      1212|\n",
      "|22535815|  EUR|    null|      null|   0.000...|        null|        null|    null|    null|    AMAM|      null|\n",
      "|22535816|  EUR|    null|      null|   0.000...|        null|        null|    null|    null|    AMAM|      null|\n",
      "|22759961|  EUR|    null|      null|   0.000...|        null|        null|    null|    null|    AMAM|      null|\n",
      "|22759962|  EUR|    null|      null|   0.000...|        null|        null|    null|    null|    AMAM|      null|\n",
      "|22784054|  EUR|    null|      null|   0.000...|        null|        null|    null|    null|    AMAM|      null|\n",
      "|22798004|  EUR|    null|      null|   0.000...|        null|        null|    null|    null|    AMAM|      null|\n",
      "|22798005|  EUR|    null|      null|   0.000...|        null|        null|    null|    null|    AMAM|      null|\n",
      "|22853656|  BRL|    null|      null|   0.000...|        null|        null|    null|    null|    AMAM|      null|\n",
      "|22980629|  EUR|    null|      null|   0.000...|        null|        null|    null|    null|    AMAM|      null|\n",
      "|22980630|  EUR|    null|      null|   0.000...|        null|        null|    null|    null|    AMAM|      null|\n",
      "|23037161|  EUR|    null|      null|   0.000...|        null|        null|    null|    null|    AMAM|      null|\n",
      "|23037162|  EUR|    null|      null|   0.000...|        null|        null|    null|    null|    AMAM|      null|\n",
      "|23097010|  EUR|    null|      null|   0.000...|        null|        null|    null|    null|    AMAM|      null|\n",
      "|23126647|  USD|    null|      null|   0.000...|        null|        null|    null|    null|    AMAM|      null|\n",
      "|23126648|  USD|    null|      null|   0.000...|        null|        null|    null|    null|    AMAM|      null|\n",
      "|31639...|  EUR|    null|      null|   0.000...|        null|        null|    null|    null|    AMAM|      null|\n",
      "|32734782|  EUR|    null|      null|   0.000...|        null|        null|    null|    null|    AMAM|      null|\n",
      "|33311...| null|    MMMM|  0.000...|       9056|    0.000...|    0.000...|      20|    8956|  VVVVVV|      1212|\n",
      "|33333333| null|    null|  0.000...|   0.000...|    0.000...|    0.000...|0.000...|0.000...| SSSSSSS|      null|\n",
      "|44411...| null|    MMMM|  0.000...|       9056|    0.000...|    0.000...|      20|    8956|  VVVVVV|      1212|\n",
      "|46835781|  EUR|    null|      null|   0.000...|        null|        null|    null|    null|    AMAM|      null|\n",
      "|55511...|  USD|    null|  30.00...|   0.000...|          10|    50.00...|      20|0.000...|LB_TL...|      1999|\n",
      "|55611...|  USD|    null|  30.00...|   0.000...|          10|    50.00...|      20|0.000...|LB_TL...|      1999|\n",
      "|56436...| null|    MMMM|       234|       9056|          10|         657|      20|    8956|  VVVVVV|      1212|\n",
      "|67324...|  EUR|    null|      null|         45|        null|        null|    null|    null|    AMAM|      null|\n",
      "|67843276|  EUR|    null|      null|   0.000...|        null|        null|    null|    null|    AMAM|      null|\n",
      "|79831432|  EUR|    null|      null|   0.000...|        null|        null|    null|    null|    AMAM|      null|\n",
      "| 8216817|  EUR|    null|      null|   0.000...|        null|        null|    null|    null|    AMAM|      null|\n",
      "+--------+-----+--------+----------+-----------+------------+------------+--------+--------+--------+----------+\n",
      "\n"
     ]
    },
    {
     "data": {
      "text/plain": [
       "pivot: org.apache.spark.sql.DataFrame = [nb: string, M_CCY: string ... 9 more fields]\r\n",
       "resultado: org.apache.spark.sql.Dataset[org.apache.spark.sql.Row] = [nb: string, M_CCY: string ... 9 more fields]\r\n"
      ]
     },
     "execution_count": 33,
     "metadata": {},
     "output_type": "execute_result"
    }
   ],
   "source": [
    "//Quicker way to do it\n",
    "\n",
    "var pivot = udfs.where(col(\"udf_name\").isin(aux3: _*))\n",
    "                .groupBy(\"nb\")\n",
    "                .pivot(\"udf_name\")\n",
    "                .agg(first(when($\"udf_name\".isin(aux2: _*), $\"num_value\").otherwise($\"string_value\")))\n",
    "\n",
    "val resultado = pivot.where((col(\"M_SELLER\").isNotNull && upper(col(\"M_SELLER\")) =!= \"NULL\") || \n",
    "                            (col(\"M_DISCMARGIN\").isNotNull && upper(col(\"M_DISCMARGIN\")) =!= \"NULL\" && col(\"M_DISCMARGIN\") =!= 0) || \n",
    "                            (col(\"M_DIRECTIAV\").isNotNull && col(\"M_DIRECTIAV\") =!= 0 && upper(col(\"M_DIRECTIAV\")) =!= \"NULL\") ||\n",
    "                            (col(\"M_LIQDTYCHRG\").isNotNull && col(\"M_LIQDTYCHRG\") =!= 0 && upper(col(\"M_LIQDTYCHRG\")) =!= \"NULL\") ||\n",
    "                            (col(\"M_CRDTCHRG\").isNotNull && col(\"M_CRDTCHRG\") =!= 0 && upper(col(\"M_CRDTCHRG\")) =!= \"NULL\") ||\n",
    "                            (col(\"M_MVA\").isNotNull && col(\"M_MVA\") =!= 0 && upper(col(\"M_MVA\")) =!= \"NULL\") ||\n",
    "                            (col(\"M_RVA\").isNotNull && col(\"M_RVA\") =!= 0 && upper(col(\"M_RVA\")) =!= \"NULL\"))\n",
    "\n",
    "println(resultado.count)\n",
    "resultado.orderBy(asc(\"nb\")).show(61,8)"
   ]
  },
  {
   "cell_type": "markdown",
   "id": "b64e281a-7e09-4627-91ca-eefa8c1ed7dc",
   "metadata": {},
   "source": [
    "### Resultado:\n",
    "\n",
    "**INSTRUCCIONES**: El DataFrame resultante debe almacenarse en la variable `resultado`, sustituyendo el valor `None` por el código que consideréis oportuno. De esta forma podréis comprobar si el resultado es correcto."
   ]
  },
  {
   "cell_type": "code",
   "execution_count": 35,
   "id": "cca78b82-9656-47f9-8ff3-2dfa4e4eea5b",
   "metadata": {},
   "outputs": [],
   "source": [
    "//val resultado = None"
   ]
  },
  {
   "cell_type": "code",
   "execution_count": 34,
   "id": "4c94d779-7dd1-4804-9659-c61ae306a0eb",
   "metadata": {},
   "outputs": [],
   "source": [
    "assert(resultado.count() == 60)\n",
    "assert(resultado.columns.size == 11)\n",
    "assert(resultado.columns(4) == \"M_DIRECTIAV\")\n",
    "assert(resultado.select(\"M_SELLER\").filter($\"nb\" === 23037162).first.getString(0) == \"AMAM\")\n",
    "assert(resultado.select(\"M_SELLER\").filter($\"nb\" === 19665186).first.getString(0) == \"LB_VSTAVRE\")\n",
    "assert(resultado.select(\"M_RVA\").filter($\"nb\" === 444111222).first.getString(0) == \"8956\")"
   ]
  }
 ],
 "metadata": {
  "kernelspec": {
   "display_name": "spylon-kernel",
   "language": "scala",
   "name": "spylon-kernel"
  },
  "language_info": {
   "codemirror_mode": "text/x-scala",
   "file_extension": ".scala",
   "help_links": [
    {
     "text": "MetaKernel Magics",
     "url": "https://metakernel.readthedocs.io/en/latest/source/README.html"
    }
   ],
   "mimetype": "text/x-scala",
   "name": "scala",
   "pygments_lexer": "scala",
   "version": "0.4.1"
  }
 },
 "nbformat": 4,
 "nbformat_minor": 5
}
